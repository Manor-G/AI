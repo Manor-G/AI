{
  "nbformat": 4,
  "nbformat_minor": 0,
  "metadata": {
    "colab": {
      "provenance": []
    },
    "kernelspec": {
      "name": "python3",
      "display_name": "Python 3"
    },
    "language_info": {
      "name": "python"
    },
    "widgets": {
      "application/vnd.jupyter.widget-state+json": {
        "2d52243ae0b543ee917453d9a5005a15": {
          "model_module": "@jupyter-widgets/controls",
          "model_name": "HBoxModel",
          "model_module_version": "1.5.0",
          "state": {
            "_dom_classes": [],
            "_model_module": "@jupyter-widgets/controls",
            "_model_module_version": "1.5.0",
            "_model_name": "HBoxModel",
            "_view_count": null,
            "_view_module": "@jupyter-widgets/controls",
            "_view_module_version": "1.5.0",
            "_view_name": "HBoxView",
            "box_style": "",
            "children": [
              "IPY_MODEL_ed350d961cd849609ce9a280e300e7d0",
              "IPY_MODEL_5d4db965cc0c4e32998b4a179564e005",
              "IPY_MODEL_6429ad0524b749f6887dbe782367fcd3"
            ],
            "layout": "IPY_MODEL_cc59f58db6ea44508c0560f9ecc4a61a"
          }
        },
        "ed350d961cd849609ce9a280e300e7d0": {
          "model_module": "@jupyter-widgets/controls",
          "model_name": "HTMLModel",
          "model_module_version": "1.5.0",
          "state": {
            "_dom_classes": [],
            "_model_module": "@jupyter-widgets/controls",
            "_model_module_version": "1.5.0",
            "_model_name": "HTMLModel",
            "_view_count": null,
            "_view_module": "@jupyter-widgets/controls",
            "_view_module_version": "1.5.0",
            "_view_name": "HTMLView",
            "description": "",
            "description_tooltip": null,
            "layout": "IPY_MODEL_6248ca01c1924ef7828921f944cd3d10",
            "placeholder": "​",
            "style": "IPY_MODEL_715098b4645a44c98fc87a152aa87585",
            "value": "Downloading data: 100%"
          }
        },
        "5d4db965cc0c4e32998b4a179564e005": {
          "model_module": "@jupyter-widgets/controls",
          "model_name": "FloatProgressModel",
          "model_module_version": "1.5.0",
          "state": {
            "_dom_classes": [],
            "_model_module": "@jupyter-widgets/controls",
            "_model_module_version": "1.5.0",
            "_model_name": "FloatProgressModel",
            "_view_count": null,
            "_view_module": "@jupyter-widgets/controls",
            "_view_module_version": "1.5.0",
            "_view_name": "ProgressView",
            "bar_style": "success",
            "description": "",
            "description_tooltip": null,
            "layout": "IPY_MODEL_5970f8c081e74588b92d6d36f90fb60e",
            "max": 103,
            "min": 0,
            "orientation": "horizontal",
            "style": "IPY_MODEL_bd7d2ce5eaef4c6ca99db6d53a88b7f1",
            "value": 103
          }
        },
        "6429ad0524b749f6887dbe782367fcd3": {
          "model_module": "@jupyter-widgets/controls",
          "model_name": "HTMLModel",
          "model_module_version": "1.5.0",
          "state": {
            "_dom_classes": [],
            "_model_module": "@jupyter-widgets/controls",
            "_model_module_version": "1.5.0",
            "_model_name": "HTMLModel",
            "_view_count": null,
            "_view_module": "@jupyter-widgets/controls",
            "_view_module_version": "1.5.0",
            "_view_name": "HTMLView",
            "description": "",
            "description_tooltip": null,
            "layout": "IPY_MODEL_4d575c26e638408bb8d890c54414322b",
            "placeholder": "​",
            "style": "IPY_MODEL_df82a1aa147147cda6848c4884db108c",
            "value": " 103/103 [00:00&lt;00:00, 2904.88files/s]"
          }
        },
        "cc59f58db6ea44508c0560f9ecc4a61a": {
          "model_module": "@jupyter-widgets/base",
          "model_name": "LayoutModel",
          "model_module_version": "1.2.0",
          "state": {
            "_model_module": "@jupyter-widgets/base",
            "_model_module_version": "1.2.0",
            "_model_name": "LayoutModel",
            "_view_count": null,
            "_view_module": "@jupyter-widgets/base",
            "_view_module_version": "1.2.0",
            "_view_name": "LayoutView",
            "align_content": null,
            "align_items": null,
            "align_self": null,
            "border": null,
            "bottom": null,
            "display": null,
            "flex": null,
            "flex_flow": null,
            "grid_area": null,
            "grid_auto_columns": null,
            "grid_auto_flow": null,
            "grid_auto_rows": null,
            "grid_column": null,
            "grid_gap": null,
            "grid_row": null,
            "grid_template_areas": null,
            "grid_template_columns": null,
            "grid_template_rows": null,
            "height": null,
            "justify_content": null,
            "justify_items": null,
            "left": null,
            "margin": null,
            "max_height": null,
            "max_width": null,
            "min_height": null,
            "min_width": null,
            "object_fit": null,
            "object_position": null,
            "order": null,
            "overflow": null,
            "overflow_x": null,
            "overflow_y": null,
            "padding": null,
            "right": null,
            "top": null,
            "visibility": null,
            "width": null
          }
        },
        "6248ca01c1924ef7828921f944cd3d10": {
          "model_module": "@jupyter-widgets/base",
          "model_name": "LayoutModel",
          "model_module_version": "1.2.0",
          "state": {
            "_model_module": "@jupyter-widgets/base",
            "_model_module_version": "1.2.0",
            "_model_name": "LayoutModel",
            "_view_count": null,
            "_view_module": "@jupyter-widgets/base",
            "_view_module_version": "1.2.0",
            "_view_name": "LayoutView",
            "align_content": null,
            "align_items": null,
            "align_self": null,
            "border": null,
            "bottom": null,
            "display": null,
            "flex": null,
            "flex_flow": null,
            "grid_area": null,
            "grid_auto_columns": null,
            "grid_auto_flow": null,
            "grid_auto_rows": null,
            "grid_column": null,
            "grid_gap": null,
            "grid_row": null,
            "grid_template_areas": null,
            "grid_template_columns": null,
            "grid_template_rows": null,
            "height": null,
            "justify_content": null,
            "justify_items": null,
            "left": null,
            "margin": null,
            "max_height": null,
            "max_width": null,
            "min_height": null,
            "min_width": null,
            "object_fit": null,
            "object_position": null,
            "order": null,
            "overflow": null,
            "overflow_x": null,
            "overflow_y": null,
            "padding": null,
            "right": null,
            "top": null,
            "visibility": null,
            "width": null
          }
        },
        "715098b4645a44c98fc87a152aa87585": {
          "model_module": "@jupyter-widgets/controls",
          "model_name": "DescriptionStyleModel",
          "model_module_version": "1.5.0",
          "state": {
            "_model_module": "@jupyter-widgets/controls",
            "_model_module_version": "1.5.0",
            "_model_name": "DescriptionStyleModel",
            "_view_count": null,
            "_view_module": "@jupyter-widgets/base",
            "_view_module_version": "1.2.0",
            "_view_name": "StyleView",
            "description_width": ""
          }
        },
        "5970f8c081e74588b92d6d36f90fb60e": {
          "model_module": "@jupyter-widgets/base",
          "model_name": "LayoutModel",
          "model_module_version": "1.2.0",
          "state": {
            "_model_module": "@jupyter-widgets/base",
            "_model_module_version": "1.2.0",
            "_model_name": "LayoutModel",
            "_view_count": null,
            "_view_module": "@jupyter-widgets/base",
            "_view_module_version": "1.2.0",
            "_view_name": "LayoutView",
            "align_content": null,
            "align_items": null,
            "align_self": null,
            "border": null,
            "bottom": null,
            "display": null,
            "flex": null,
            "flex_flow": null,
            "grid_area": null,
            "grid_auto_columns": null,
            "grid_auto_flow": null,
            "grid_auto_rows": null,
            "grid_column": null,
            "grid_gap": null,
            "grid_row": null,
            "grid_template_areas": null,
            "grid_template_columns": null,
            "grid_template_rows": null,
            "height": null,
            "justify_content": null,
            "justify_items": null,
            "left": null,
            "margin": null,
            "max_height": null,
            "max_width": null,
            "min_height": null,
            "min_width": null,
            "object_fit": null,
            "object_position": null,
            "order": null,
            "overflow": null,
            "overflow_x": null,
            "overflow_y": null,
            "padding": null,
            "right": null,
            "top": null,
            "visibility": null,
            "width": null
          }
        },
        "bd7d2ce5eaef4c6ca99db6d53a88b7f1": {
          "model_module": "@jupyter-widgets/controls",
          "model_name": "ProgressStyleModel",
          "model_module_version": "1.5.0",
          "state": {
            "_model_module": "@jupyter-widgets/controls",
            "_model_module_version": "1.5.0",
            "_model_name": "ProgressStyleModel",
            "_view_count": null,
            "_view_module": "@jupyter-widgets/base",
            "_view_module_version": "1.2.0",
            "_view_name": "StyleView",
            "bar_color": null,
            "description_width": ""
          }
        },
        "4d575c26e638408bb8d890c54414322b": {
          "model_module": "@jupyter-widgets/base",
          "model_name": "LayoutModel",
          "model_module_version": "1.2.0",
          "state": {
            "_model_module": "@jupyter-widgets/base",
            "_model_module_version": "1.2.0",
            "_model_name": "LayoutModel",
            "_view_count": null,
            "_view_module": "@jupyter-widgets/base",
            "_view_module_version": "1.2.0",
            "_view_name": "LayoutView",
            "align_content": null,
            "align_items": null,
            "align_self": null,
            "border": null,
            "bottom": null,
            "display": null,
            "flex": null,
            "flex_flow": null,
            "grid_area": null,
            "grid_auto_columns": null,
            "grid_auto_flow": null,
            "grid_auto_rows": null,
            "grid_column": null,
            "grid_gap": null,
            "grid_row": null,
            "grid_template_areas": null,
            "grid_template_columns": null,
            "grid_template_rows": null,
            "height": null,
            "justify_content": null,
            "justify_items": null,
            "left": null,
            "margin": null,
            "max_height": null,
            "max_width": null,
            "min_height": null,
            "min_width": null,
            "object_fit": null,
            "object_position": null,
            "order": null,
            "overflow": null,
            "overflow_x": null,
            "overflow_y": null,
            "padding": null,
            "right": null,
            "top": null,
            "visibility": null,
            "width": null
          }
        },
        "df82a1aa147147cda6848c4884db108c": {
          "model_module": "@jupyter-widgets/controls",
          "model_name": "DescriptionStyleModel",
          "model_module_version": "1.5.0",
          "state": {
            "_model_module": "@jupyter-widgets/controls",
            "_model_module_version": "1.5.0",
            "_model_name": "DescriptionStyleModel",
            "_view_count": null,
            "_view_module": "@jupyter-widgets/base",
            "_view_module_version": "1.2.0",
            "_view_name": "StyleView",
            "description_width": ""
          }
        },
        "f9c6a2f62b17410ca84fa07c6fb3ff22": {
          "model_module": "@jupyter-widgets/controls",
          "model_name": "HBoxModel",
          "model_module_version": "1.5.0",
          "state": {
            "_dom_classes": [],
            "_model_module": "@jupyter-widgets/controls",
            "_model_module_version": "1.5.0",
            "_model_name": "HBoxModel",
            "_view_count": null,
            "_view_module": "@jupyter-widgets/controls",
            "_view_module_version": "1.5.0",
            "_view_name": "HBoxView",
            "box_style": "",
            "children": [
              "IPY_MODEL_0083def7bb4f4ee190e62ae355c4aa53",
              "IPY_MODEL_146470abf0244ae88cb2d121f9bb8c8d",
              "IPY_MODEL_c1e667b77fcf4afea12d8201fa4f7bdc"
            ],
            "layout": "IPY_MODEL_d51eb51c96b140269f37ff20f010a3c7"
          }
        },
        "0083def7bb4f4ee190e62ae355c4aa53": {
          "model_module": "@jupyter-widgets/controls",
          "model_name": "HTMLModel",
          "model_module_version": "1.5.0",
          "state": {
            "_dom_classes": [],
            "_model_module": "@jupyter-widgets/controls",
            "_model_module_version": "1.5.0",
            "_model_name": "HTMLModel",
            "_view_count": null,
            "_view_module": "@jupyter-widgets/controls",
            "_view_module_version": "1.5.0",
            "_view_name": "HTMLView",
            "description": "",
            "description_tooltip": null,
            "layout": "IPY_MODEL_b7bb60efe9244e2a8ba356db11e6da59",
            "placeholder": "​",
            "style": "IPY_MODEL_c850924f9f6f4ec597499339f80cf0c5",
            "value": "Generating train split: "
          }
        },
        "146470abf0244ae88cb2d121f9bb8c8d": {
          "model_module": "@jupyter-widgets/controls",
          "model_name": "FloatProgressModel",
          "model_module_version": "1.5.0",
          "state": {
            "_dom_classes": [],
            "_model_module": "@jupyter-widgets/controls",
            "_model_module_version": "1.5.0",
            "_model_name": "FloatProgressModel",
            "_view_count": null,
            "_view_module": "@jupyter-widgets/controls",
            "_view_module_version": "1.5.0",
            "_view_name": "ProgressView",
            "bar_style": "success",
            "description": "",
            "description_tooltip": null,
            "layout": "IPY_MODEL_c7268bd6cb43424f9cc3ff763031e86e",
            "max": 1,
            "min": 0,
            "orientation": "horizontal",
            "style": "IPY_MODEL_b5809651817946cf9f44ae277ae70ad8",
            "value": 1
          }
        },
        "c1e667b77fcf4afea12d8201fa4f7bdc": {
          "model_module": "@jupyter-widgets/controls",
          "model_name": "HTMLModel",
          "model_module_version": "1.5.0",
          "state": {
            "_dom_classes": [],
            "_model_module": "@jupyter-widgets/controls",
            "_model_module_version": "1.5.0",
            "_model_name": "HTMLModel",
            "_view_count": null,
            "_view_module": "@jupyter-widgets/controls",
            "_view_module_version": "1.5.0",
            "_view_name": "HTMLView",
            "description": "",
            "description_tooltip": null,
            "layout": "IPY_MODEL_c2be69ea7c8347d8bb23dc86951537bb",
            "placeholder": "​",
            "style": "IPY_MODEL_9db9baf6b8bc42db92fa87e14b220476",
            "value": " 13095416/0 [34:48&lt;00:00, 6816.19 examples/s]"
          }
        },
        "d51eb51c96b140269f37ff20f010a3c7": {
          "model_module": "@jupyter-widgets/base",
          "model_name": "LayoutModel",
          "model_module_version": "1.2.0",
          "state": {
            "_model_module": "@jupyter-widgets/base",
            "_model_module_version": "1.2.0",
            "_model_name": "LayoutModel",
            "_view_count": null,
            "_view_module": "@jupyter-widgets/base",
            "_view_module_version": "1.2.0",
            "_view_name": "LayoutView",
            "align_content": null,
            "align_items": null,
            "align_self": null,
            "border": null,
            "bottom": null,
            "display": null,
            "flex": null,
            "flex_flow": null,
            "grid_area": null,
            "grid_auto_columns": null,
            "grid_auto_flow": null,
            "grid_auto_rows": null,
            "grid_column": null,
            "grid_gap": null,
            "grid_row": null,
            "grid_template_areas": null,
            "grid_template_columns": null,
            "grid_template_rows": null,
            "height": null,
            "justify_content": null,
            "justify_items": null,
            "left": null,
            "margin": null,
            "max_height": null,
            "max_width": null,
            "min_height": null,
            "min_width": null,
            "object_fit": null,
            "object_position": null,
            "order": null,
            "overflow": null,
            "overflow_x": null,
            "overflow_y": null,
            "padding": null,
            "right": null,
            "top": null,
            "visibility": null,
            "width": null
          }
        },
        "b7bb60efe9244e2a8ba356db11e6da59": {
          "model_module": "@jupyter-widgets/base",
          "model_name": "LayoutModel",
          "model_module_version": "1.2.0",
          "state": {
            "_model_module": "@jupyter-widgets/base",
            "_model_module_version": "1.2.0",
            "_model_name": "LayoutModel",
            "_view_count": null,
            "_view_module": "@jupyter-widgets/base",
            "_view_module_version": "1.2.0",
            "_view_name": "LayoutView",
            "align_content": null,
            "align_items": null,
            "align_self": null,
            "border": null,
            "bottom": null,
            "display": null,
            "flex": null,
            "flex_flow": null,
            "grid_area": null,
            "grid_auto_columns": null,
            "grid_auto_flow": null,
            "grid_auto_rows": null,
            "grid_column": null,
            "grid_gap": null,
            "grid_row": null,
            "grid_template_areas": null,
            "grid_template_columns": null,
            "grid_template_rows": null,
            "height": null,
            "justify_content": null,
            "justify_items": null,
            "left": null,
            "margin": null,
            "max_height": null,
            "max_width": null,
            "min_height": null,
            "min_width": null,
            "object_fit": null,
            "object_position": null,
            "order": null,
            "overflow": null,
            "overflow_x": null,
            "overflow_y": null,
            "padding": null,
            "right": null,
            "top": null,
            "visibility": null,
            "width": null
          }
        },
        "c850924f9f6f4ec597499339f80cf0c5": {
          "model_module": "@jupyter-widgets/controls",
          "model_name": "DescriptionStyleModel",
          "model_module_version": "1.5.0",
          "state": {
            "_model_module": "@jupyter-widgets/controls",
            "_model_module_version": "1.5.0",
            "_model_name": "DescriptionStyleModel",
            "_view_count": null,
            "_view_module": "@jupyter-widgets/base",
            "_view_module_version": "1.2.0",
            "_view_name": "StyleView",
            "description_width": ""
          }
        },
        "c7268bd6cb43424f9cc3ff763031e86e": {
          "model_module": "@jupyter-widgets/base",
          "model_name": "LayoutModel",
          "model_module_version": "1.2.0",
          "state": {
            "_model_module": "@jupyter-widgets/base",
            "_model_module_version": "1.2.0",
            "_model_name": "LayoutModel",
            "_view_count": null,
            "_view_module": "@jupyter-widgets/base",
            "_view_module_version": "1.2.0",
            "_view_name": "LayoutView",
            "align_content": null,
            "align_items": null,
            "align_self": null,
            "border": null,
            "bottom": null,
            "display": null,
            "flex": null,
            "flex_flow": null,
            "grid_area": null,
            "grid_auto_columns": null,
            "grid_auto_flow": null,
            "grid_auto_rows": null,
            "grid_column": null,
            "grid_gap": null,
            "grid_row": null,
            "grid_template_areas": null,
            "grid_template_columns": null,
            "grid_template_rows": null,
            "height": null,
            "justify_content": null,
            "justify_items": null,
            "left": null,
            "margin": null,
            "max_height": null,
            "max_width": null,
            "min_height": null,
            "min_width": null,
            "object_fit": null,
            "object_position": null,
            "order": null,
            "overflow": null,
            "overflow_x": null,
            "overflow_y": null,
            "padding": null,
            "right": null,
            "top": null,
            "visibility": null,
            "width": "20px"
          }
        },
        "b5809651817946cf9f44ae277ae70ad8": {
          "model_module": "@jupyter-widgets/controls",
          "model_name": "ProgressStyleModel",
          "model_module_version": "1.5.0",
          "state": {
            "_model_module": "@jupyter-widgets/controls",
            "_model_module_version": "1.5.0",
            "_model_name": "ProgressStyleModel",
            "_view_count": null,
            "_view_module": "@jupyter-widgets/base",
            "_view_module_version": "1.2.0",
            "_view_name": "StyleView",
            "bar_color": null,
            "description_width": ""
          }
        },
        "c2be69ea7c8347d8bb23dc86951537bb": {
          "model_module": "@jupyter-widgets/base",
          "model_name": "LayoutModel",
          "model_module_version": "1.2.0",
          "state": {
            "_model_module": "@jupyter-widgets/base",
            "_model_module_version": "1.2.0",
            "_model_name": "LayoutModel",
            "_view_count": null,
            "_view_module": "@jupyter-widgets/base",
            "_view_module_version": "1.2.0",
            "_view_name": "LayoutView",
            "align_content": null,
            "align_items": null,
            "align_self": null,
            "border": null,
            "bottom": null,
            "display": null,
            "flex": null,
            "flex_flow": null,
            "grid_area": null,
            "grid_auto_columns": null,
            "grid_auto_flow": null,
            "grid_auto_rows": null,
            "grid_column": null,
            "grid_gap": null,
            "grid_row": null,
            "grid_template_areas": null,
            "grid_template_columns": null,
            "grid_template_rows": null,
            "height": null,
            "justify_content": null,
            "justify_items": null,
            "left": null,
            "margin": null,
            "max_height": null,
            "max_width": null,
            "min_height": null,
            "min_width": null,
            "object_fit": null,
            "object_position": null,
            "order": null,
            "overflow": null,
            "overflow_x": null,
            "overflow_y": null,
            "padding": null,
            "right": null,
            "top": null,
            "visibility": null,
            "width": null
          }
        },
        "9db9baf6b8bc42db92fa87e14b220476": {
          "model_module": "@jupyter-widgets/controls",
          "model_name": "DescriptionStyleModel",
          "model_module_version": "1.5.0",
          "state": {
            "_model_module": "@jupyter-widgets/controls",
            "_model_module_version": "1.5.0",
            "_model_name": "DescriptionStyleModel",
            "_view_count": null,
            "_view_module": "@jupyter-widgets/base",
            "_view_module_version": "1.2.0",
            "_view_name": "StyleView",
            "description_width": ""
          }
        },
        "5634a009dc824b6ea4afa4bdb9fddede": {
          "model_module": "@jupyter-widgets/controls",
          "model_name": "HBoxModel",
          "model_module_version": "1.5.0",
          "state": {
            "_dom_classes": [],
            "_model_module": "@jupyter-widgets/controls",
            "_model_module_version": "1.5.0",
            "_model_name": "HBoxModel",
            "_view_count": null,
            "_view_module": "@jupyter-widgets/controls",
            "_view_module_version": "1.5.0",
            "_view_name": "HBoxView",
            "box_style": "",
            "children": [
              "IPY_MODEL_ce314bab1c724f2491b87eb468675e7f",
              "IPY_MODEL_f712b23c63f3452a82d2d300938c37eb",
              "IPY_MODEL_c9fbc84bbe5c4cadaba53f66f7f3e555"
            ],
            "layout": "IPY_MODEL_c35f7a6832d442caa81461861920840c"
          }
        },
        "ce314bab1c724f2491b87eb468675e7f": {
          "model_module": "@jupyter-widgets/controls",
          "model_name": "HTMLModel",
          "model_module_version": "1.5.0",
          "state": {
            "_dom_classes": [],
            "_model_module": "@jupyter-widgets/controls",
            "_model_module_version": "1.5.0",
            "_model_name": "HTMLModel",
            "_view_count": null,
            "_view_module": "@jupyter-widgets/controls",
            "_view_module_version": "1.5.0",
            "_view_name": "HTMLView",
            "description": "",
            "description_tooltip": null,
            "layout": "IPY_MODEL_ea289479850247d7902706da24740459",
            "placeholder": "​",
            "style": "IPY_MODEL_69afb913edcd4f9aa9821ba37f97c64b",
            "value": "Loading dataset shards: 100%"
          }
        },
        "f712b23c63f3452a82d2d300938c37eb": {
          "model_module": "@jupyter-widgets/controls",
          "model_name": "FloatProgressModel",
          "model_module_version": "1.5.0",
          "state": {
            "_dom_classes": [],
            "_model_module": "@jupyter-widgets/controls",
            "_model_module_version": "1.5.0",
            "_model_name": "FloatProgressModel",
            "_view_count": null,
            "_view_module": "@jupyter-widgets/controls",
            "_view_module_version": "1.5.0",
            "_view_name": "ProgressView",
            "bar_style": "success",
            "description": "",
            "description_tooltip": null,
            "layout": "IPY_MODEL_4f2199671fb14daebcf394d9e210f42b",
            "max": 73,
            "min": 0,
            "orientation": "horizontal",
            "style": "IPY_MODEL_8c2e8a9b2cdb4f99b6f4f10a364a2358",
            "value": 73
          }
        },
        "c9fbc84bbe5c4cadaba53f66f7f3e555": {
          "model_module": "@jupyter-widgets/controls",
          "model_name": "HTMLModel",
          "model_module_version": "1.5.0",
          "state": {
            "_dom_classes": [],
            "_model_module": "@jupyter-widgets/controls",
            "_model_module_version": "1.5.0",
            "_model_name": "HTMLModel",
            "_view_count": null,
            "_view_module": "@jupyter-widgets/controls",
            "_view_module_version": "1.5.0",
            "_view_name": "HTMLView",
            "description": "",
            "description_tooltip": null,
            "layout": "IPY_MODEL_51fdeca9c9ee41babbb9671f5b40b958",
            "placeholder": "​",
            "style": "IPY_MODEL_fecddbd5444d4623bc5578b75bca7f49",
            "value": " 73/73 [01:58&lt;00:00,  2.75s/it]"
          }
        },
        "c35f7a6832d442caa81461861920840c": {
          "model_module": "@jupyter-widgets/base",
          "model_name": "LayoutModel",
          "model_module_version": "1.2.0",
          "state": {
            "_model_module": "@jupyter-widgets/base",
            "_model_module_version": "1.2.0",
            "_model_name": "LayoutModel",
            "_view_count": null,
            "_view_module": "@jupyter-widgets/base",
            "_view_module_version": "1.2.0",
            "_view_name": "LayoutView",
            "align_content": null,
            "align_items": null,
            "align_self": null,
            "border": null,
            "bottom": null,
            "display": null,
            "flex": null,
            "flex_flow": null,
            "grid_area": null,
            "grid_auto_columns": null,
            "grid_auto_flow": null,
            "grid_auto_rows": null,
            "grid_column": null,
            "grid_gap": null,
            "grid_row": null,
            "grid_template_areas": null,
            "grid_template_columns": null,
            "grid_template_rows": null,
            "height": null,
            "justify_content": null,
            "justify_items": null,
            "left": null,
            "margin": null,
            "max_height": null,
            "max_width": null,
            "min_height": null,
            "min_width": null,
            "object_fit": null,
            "object_position": null,
            "order": null,
            "overflow": null,
            "overflow_x": null,
            "overflow_y": null,
            "padding": null,
            "right": null,
            "top": null,
            "visibility": null,
            "width": null
          }
        },
        "ea289479850247d7902706da24740459": {
          "model_module": "@jupyter-widgets/base",
          "model_name": "LayoutModel",
          "model_module_version": "1.2.0",
          "state": {
            "_model_module": "@jupyter-widgets/base",
            "_model_module_version": "1.2.0",
            "_model_name": "LayoutModel",
            "_view_count": null,
            "_view_module": "@jupyter-widgets/base",
            "_view_module_version": "1.2.0",
            "_view_name": "LayoutView",
            "align_content": null,
            "align_items": null,
            "align_self": null,
            "border": null,
            "bottom": null,
            "display": null,
            "flex": null,
            "flex_flow": null,
            "grid_area": null,
            "grid_auto_columns": null,
            "grid_auto_flow": null,
            "grid_auto_rows": null,
            "grid_column": null,
            "grid_gap": null,
            "grid_row": null,
            "grid_template_areas": null,
            "grid_template_columns": null,
            "grid_template_rows": null,
            "height": null,
            "justify_content": null,
            "justify_items": null,
            "left": null,
            "margin": null,
            "max_height": null,
            "max_width": null,
            "min_height": null,
            "min_width": null,
            "object_fit": null,
            "object_position": null,
            "order": null,
            "overflow": null,
            "overflow_x": null,
            "overflow_y": null,
            "padding": null,
            "right": null,
            "top": null,
            "visibility": null,
            "width": null
          }
        },
        "69afb913edcd4f9aa9821ba37f97c64b": {
          "model_module": "@jupyter-widgets/controls",
          "model_name": "DescriptionStyleModel",
          "model_module_version": "1.5.0",
          "state": {
            "_model_module": "@jupyter-widgets/controls",
            "_model_module_version": "1.5.0",
            "_model_name": "DescriptionStyleModel",
            "_view_count": null,
            "_view_module": "@jupyter-widgets/base",
            "_view_module_version": "1.2.0",
            "_view_name": "StyleView",
            "description_width": ""
          }
        },
        "4f2199671fb14daebcf394d9e210f42b": {
          "model_module": "@jupyter-widgets/base",
          "model_name": "LayoutModel",
          "model_module_version": "1.2.0",
          "state": {
            "_model_module": "@jupyter-widgets/base",
            "_model_module_version": "1.2.0",
            "_model_name": "LayoutModel",
            "_view_count": null,
            "_view_module": "@jupyter-widgets/base",
            "_view_module_version": "1.2.0",
            "_view_name": "LayoutView",
            "align_content": null,
            "align_items": null,
            "align_self": null,
            "border": null,
            "bottom": null,
            "display": null,
            "flex": null,
            "flex_flow": null,
            "grid_area": null,
            "grid_auto_columns": null,
            "grid_auto_flow": null,
            "grid_auto_rows": null,
            "grid_column": null,
            "grid_gap": null,
            "grid_row": null,
            "grid_template_areas": null,
            "grid_template_columns": null,
            "grid_template_rows": null,
            "height": null,
            "justify_content": null,
            "justify_items": null,
            "left": null,
            "margin": null,
            "max_height": null,
            "max_width": null,
            "min_height": null,
            "min_width": null,
            "object_fit": null,
            "object_position": null,
            "order": null,
            "overflow": null,
            "overflow_x": null,
            "overflow_y": null,
            "padding": null,
            "right": null,
            "top": null,
            "visibility": null,
            "width": null
          }
        },
        "8c2e8a9b2cdb4f99b6f4f10a364a2358": {
          "model_module": "@jupyter-widgets/controls",
          "model_name": "ProgressStyleModel",
          "model_module_version": "1.5.0",
          "state": {
            "_model_module": "@jupyter-widgets/controls",
            "_model_module_version": "1.5.0",
            "_model_name": "ProgressStyleModel",
            "_view_count": null,
            "_view_module": "@jupyter-widgets/base",
            "_view_module_version": "1.2.0",
            "_view_name": "StyleView",
            "bar_color": null,
            "description_width": ""
          }
        },
        "51fdeca9c9ee41babbb9671f5b40b958": {
          "model_module": "@jupyter-widgets/base",
          "model_name": "LayoutModel",
          "model_module_version": "1.2.0",
          "state": {
            "_model_module": "@jupyter-widgets/base",
            "_model_module_version": "1.2.0",
            "_model_name": "LayoutModel",
            "_view_count": null,
            "_view_module": "@jupyter-widgets/base",
            "_view_module_version": "1.2.0",
            "_view_name": "LayoutView",
            "align_content": null,
            "align_items": null,
            "align_self": null,
            "border": null,
            "bottom": null,
            "display": null,
            "flex": null,
            "flex_flow": null,
            "grid_area": null,
            "grid_auto_columns": null,
            "grid_auto_flow": null,
            "grid_auto_rows": null,
            "grid_column": null,
            "grid_gap": null,
            "grid_row": null,
            "grid_template_areas": null,
            "grid_template_columns": null,
            "grid_template_rows": null,
            "height": null,
            "justify_content": null,
            "justify_items": null,
            "left": null,
            "margin": null,
            "max_height": null,
            "max_width": null,
            "min_height": null,
            "min_width": null,
            "object_fit": null,
            "object_position": null,
            "order": null,
            "overflow": null,
            "overflow_x": null,
            "overflow_y": null,
            "padding": null,
            "right": null,
            "top": null,
            "visibility": null,
            "width": null
          }
        },
        "fecddbd5444d4623bc5578b75bca7f49": {
          "model_module": "@jupyter-widgets/controls",
          "model_name": "DescriptionStyleModel",
          "model_module_version": "1.5.0",
          "state": {
            "_model_module": "@jupyter-widgets/controls",
            "_model_module_version": "1.5.0",
            "_model_name": "DescriptionStyleModel",
            "_view_count": null,
            "_view_module": "@jupyter-widgets/base",
            "_view_module_version": "1.2.0",
            "_view_name": "StyleView",
            "description_width": ""
          }
        }
      }
    }
  },
  "cells": [
    {
      "cell_type": "code",
      "source": [
        "PARALLEL_DOWNLOADS=\"2\"\n",
        "DOLMA_VERSION=\"v1_6-sample\"\n",
        "\n",
        "!git clone https://huggingface.co/datasets/allenai/dolma"
      ],
      "metadata": {
        "colab": {
          "base_uri": "https://localhost:8080/"
        },
        "id": "PMsozk58hidE",
        "outputId": "0f49b025-a3f4-4b34-e094-423cbb7e2175"
      },
      "execution_count": 1,
      "outputs": [
        {
          "output_type": "stream",
          "name": "stdout",
          "text": [
            "fatal: destination path 'dolma' already exists and is not an empty directory.\n"
          ]
        }
      ]
    },
    {
      "cell_type": "code",
      "source": [
        "!pip install datasets -q"
      ],
      "metadata": {
        "id": "g5td4QCAhrbs"
      },
      "execution_count": 2,
      "outputs": []
    },
    {
      "cell_type": "code",
      "source": [
        "# !cat \"dolma/urls/${DOLMA_VERSION}.txt\" | xargs -n 1 -P \"${PARALLEL_DOWNLOADS}\" wget -q -P \"$DATA_DIR\""
      ],
      "metadata": {
        "colab": {
          "base_uri": "https://localhost:8080/"
        },
        "id": "CncU-kIucYcJ",
        "outputId": "1253e074-713f-4f43-d9e8-634f7e9dc54c"
      },
      "execution_count": 11,
      "outputs": [
        {
          "output_type": "stream",
          "name": "stdout",
          "text": [
            "cat: dolma/urls/.txt: No such file or directory\n",
            "xargs: invalid number \"\" for -P option\n",
            "Try 'xargs --help' for more information.\n"
          ]
        }
      ]
    },
    {
      "cell_type": "code",
      "execution_count": 3,
      "metadata": {
        "colab": {
          "base_uri": "https://localhost:8080/",
          "height": 237,
          "referenced_widgets": [
            "2d52243ae0b543ee917453d9a5005a15",
            "ed350d961cd849609ce9a280e300e7d0",
            "5d4db965cc0c4e32998b4a179564e005",
            "6429ad0524b749f6887dbe782367fcd3",
            "cc59f58db6ea44508c0560f9ecc4a61a",
            "6248ca01c1924ef7828921f944cd3d10",
            "715098b4645a44c98fc87a152aa87585",
            "5970f8c081e74588b92d6d36f90fb60e",
            "bd7d2ce5eaef4c6ca99db6d53a88b7f1",
            "4d575c26e638408bb8d890c54414322b",
            "df82a1aa147147cda6848c4884db108c",
            "f9c6a2f62b17410ca84fa07c6fb3ff22",
            "0083def7bb4f4ee190e62ae355c4aa53",
            "146470abf0244ae88cb2d121f9bb8c8d",
            "c1e667b77fcf4afea12d8201fa4f7bdc",
            "d51eb51c96b140269f37ff20f010a3c7",
            "b7bb60efe9244e2a8ba356db11e6da59",
            "c850924f9f6f4ec597499339f80cf0c5",
            "c7268bd6cb43424f9cc3ff763031e86e",
            "b5809651817946cf9f44ae277ae70ad8",
            "c2be69ea7c8347d8bb23dc86951537bb",
            "9db9baf6b8bc42db92fa87e14b220476",
            "5634a009dc824b6ea4afa4bdb9fddede",
            "ce314bab1c724f2491b87eb468675e7f",
            "f712b23c63f3452a82d2d300938c37eb",
            "c9fbc84bbe5c4cadaba53f66f7f3e555",
            "c35f7a6832d442caa81461861920840c",
            "ea289479850247d7902706da24740459",
            "69afb913edcd4f9aa9821ba37f97c64b",
            "4f2199671fb14daebcf394d9e210f42b",
            "8c2e8a9b2cdb4f99b6f4f10a364a2358",
            "51fdeca9c9ee41babbb9671f5b40b958",
            "fecddbd5444d4623bc5578b75bca7f49"
          ]
        },
        "id": "Om6S_1pihLHg",
        "outputId": "f1efc916-6c52-47c8-edae-2025847a9c2b"
      },
      "outputs": [
        {
          "output_type": "stream",
          "name": "stderr",
          "text": [
            "/usr/local/lib/python3.10/dist-packages/huggingface_hub/utils/_token.py:89: UserWarning: \n",
            "The secret `HF_TOKEN` does not exist in your Colab secrets.\n",
            "To authenticate with the Hugging Face Hub, create a token in your settings tab (https://huggingface.co/settings/tokens), set it as secret in your Google Colab and restart your session.\n",
            "You will be able to reuse this secret in all of your notebooks.\n",
            "Please note that authentication is recommended but still optional to access public models or datasets.\n",
            "  warnings.warn(\n"
          ]
        },
        {
          "output_type": "display_data",
          "data": {
            "text/plain": [
              "Downloading data:   0%|          | 0/103 [00:00<?, ?files/s]"
            ],
            "application/vnd.jupyter.widget-view+json": {
              "version_major": 2,
              "version_minor": 0,
              "model_id": "2d52243ae0b543ee917453d9a5005a15"
            }
          },
          "metadata": {}
        },
        {
          "output_type": "display_data",
          "data": {
            "text/plain": [
              "Generating train split: 0 examples [00:00, ? examples/s]"
            ],
            "application/vnd.jupyter.widget-view+json": {
              "version_major": 2,
              "version_minor": 0,
              "model_id": "f9c6a2f62b17410ca84fa07c6fb3ff22"
            }
          },
          "metadata": {}
        },
        {
          "output_type": "display_data",
          "data": {
            "text/plain": [
              "Loading dataset shards:   0%|          | 0/73 [00:00<?, ?it/s]"
            ],
            "application/vnd.jupyter.widget-view+json": {
              "version_major": 2,
              "version_minor": 0,
              "model_id": "5634a009dc824b6ea4afa4bdb9fddede"
            }
          },
          "metadata": {}
        }
      ],
      "source": [
        "import os\n",
        "from datasets import load_dataset\n",
        "\n",
        "# os.environ[\"DATA_DIR\"] = \"<path_to_your_data_directory>\"\n",
        "dataset = load_dataset(\"allenai/dolma\", 'v1_6-sample')"
      ]
    },
    {
      "cell_type": "code",
      "source": [
        "print(dataset)"
      ],
      "metadata": {
        "colab": {
          "base_uri": "https://localhost:8080/"
        },
        "id": "rhataucShqFa",
        "outputId": "4dcf20a0-31a6-47e7-cf59-2b945ab4c37b"
      },
      "execution_count": 7,
      "outputs": [
        {
          "output_type": "stream",
          "name": "stdout",
          "text": [
            "DatasetDict({\n",
            "    train: Dataset({\n",
            "        features: ['id', 'text', 'added', 'created', 'source'],\n",
            "        num_rows: 13095416\n",
            "    })\n",
            "})\n"
          ]
        }
      ]
    },
    {
      "cell_type": "code",
      "source": [
        "for i in range(10):\n",
        "  print(dataset['train'][i]['source'])\n"
      ],
      "metadata": {
        "colab": {
          "base_uri": "https://localhost:8080/"
        },
        "id": "WE56124IcQMC",
        "outputId": "92cda080-4b2b-4c91-e098-47fdf1f8c3f4"
      },
      "execution_count": 22,
      "outputs": [
        {
          "output_type": "stream",
          "name": "stdout",
          "text": [
            "gutenberg\n",
            "gutenberg\n",
            "gutenberg\n",
            "gutenberg\n",
            "gutenberg\n",
            "gutenberg\n",
            "gutenberg\n",
            "gutenberg\n",
            "gutenberg\n",
            "gutenberg\n"
          ]
        }
      ]
    },
    {
      "cell_type": "code",
      "source": [
        "dataset['train'][1]"
      ],
      "metadata": {
        "colab": {
          "base_uri": "https://localhost:8080/"
        },
        "id": "Ln7LfG962fas",
        "outputId": "eed99228-16c5-4880-d9a9-8e846614a832"
      },
      "execution_count": 21,
      "outputs": [
        {
          "output_type": "execute_result",
          "data": {
            "text/plain": [
              "{'id': '02c98cf97f31cf4e42f9cf9ebba879bb847ac8e3',\n",
              " 'text': '[Illustration: Front Cover]\\n\\n[Illustration]\\n\\n\\nTHE BOOK\\n\\nOF\\n\\nENTERPRISE & ADVENTURE;\\n\\nBEING AN\\n\\nEXCITEMENT TO READING.\\n\\nFOR\\n\\nYOUNG PEOPLE.\\n\\n\\nA NEW AND CONDENSED EDITION.\\n\\nWITH ILLUSTRATIONS BY ABSALON.\\n\\nLONDON\\n\\n1851.\\n\\n\\nPREFACE.\\n\\nThe object of this Volume is that of inducing young people to read, to\\ncultivate in them a habit of reading and reflection, and to excite the\\nimagination, the feelings, and the better emotions of their nature in a\\npleasurable and judicious manner.\\n\\nThe pieces selected are such as will be likely to exert a beneficial\\ninfluence upon the reader, to inspire him with heroic enthusiasm, and to\\nlead him to despise danger.\\n\\nIn our perpetually migrating population, no one can tell who will not be\\ncalled upon to brave the vicissitudes of \"flood and field;\" and to show\\nhow perils may be surmounted, and privations endured with energy and\\npatience, is to teach no unimportant lesson.\\n\\nNothing whatever has been introduced into this Volume, but such subjects\\nas will teach a dependence upon Divine Providence, in aid of\\nself-reliance and self-sacrifice, while details of war and bloodshed\\nhave been studiously avoided.\\n\\nTHE EDITOR.\\n\\nCONTENTS.\\n\\n\\nARABIAN HOSPITALITY, ETC.\\n  HOSPITALITY OF THE ARAB\\n  HORRORS OF AFRICAN WARFARE\\n  CROCODILE SHOOTING\\n\\nREMARKABLE INSTANCE OF COURAGE IN A LADY\\n\\nINDIAN FIELD SPORTS--\\n  METHOD OF CATCHING BIRDS\\n  THE HYENA\\n  THE BEAR\\n  SAGACITY OF THE ELEPHANT\\n  ANECDOTES OF THE TIGER\\n\\nDEATH OF SIR JOHN MOORE\\n\\nPERSIAN TYRANNY\\n\\nSKETCHES IN VIRGINIA--\\n  ROCK BRIDGE\\n  WIER\\'S CAVE\\n\\nTHE CHRISTIAN SLAVE\\n\\nVIOLENT EARTHQUAKE IN CALABRIA\\n\\nESCAPE FROM A SHIP ON FIRE\\n\\nANECDOTES, ETC.--\\n  THE ALBATROSS\\n  VISIT TO A PENGUIN ROOKERY\\n  THE SEA ELEPHANT\\n  VISIT FROM THE NATIVES AT TERRA DEL FUEGO\\n  CHILIAN MODE OF CAPTURING WILD HORSES\\n  FIGHT BETWEEN A WHALE AND A KILLER\\n  WAR DANCES OF THE NEW ZEALANDERS\\n  HISTORY OF PADDY CONNEL\\n\\nEXTRAORDINARY ESCAPE FROM DROWNING\\n\\nADVENTURE IN THE DESERT, AND MURDER OF A\\n  SHEIKH\\n\\n\\nBOOK OF ENTERPRISE & ADVENTURE.\\n\\n\\n~Arabian Hospitality--African Warfare, &c.~\\n\\n\\nThe following three extracts are from a work of considerable merit,\\nintitled \"The Crescent and the Cross.\" It contains, not only much\\nvaluable matter relative to Egypt and Abyssinia, but many interesting\\nanecdotes, of which we give a specimen.\\n\\n\\nHOSPITALITY OF THE ARAB.\\n\\n\\nIn 1804, Osman Bardissy was the most influential of the Mameluke Beys,\\nand virtually governed Egypt. Mehemet Ali, then rising into power,\\nsucceeded in embroiling this powerful old chief with Elfy Bey, another\\nof the Mamelukes. The latter escaped to England, where he was\\nfavourably received, and promised assistance by our government against\\nOsman, who was in the French interests. At this time a Sheikh of Bedouin\\nstood high in Osman\\'s confidence, and brought him intelligence that Elfy\\nhad landed at Alexandria. \"Go, then,\" said the old Bey, \"surprise his\\nboat, and slay him on his way up the river; his spoil shall be your\\nreward.\" The Sheikh lay in wait upon the banks of the Delta, and slew\\nall the companions of the rival Bey: Elfy himself escaped in the\\ndarkness, and made his way to an Arab encampment before sunrise. Going\\nstraight to the Sheikh\\'s tent, which is known by a spear standing in\\nfront of it, he entered, and hastily devoured some bread that he found\\nthere. The Sheikh was absent; but his wife exclaimed, on seeing the\\nfugitive, \"I know you, Elfy Bey, and my husband\\'s life, perhaps at his\\nmoment, depends upon his taking yours. Rest now and refresh yourself,\\nthen take the best horse you can find, and fly. The moment you are out\\nof our horizon, the tribe will be in pursuit of you.\" The Bey escaped\\nto the Thebaid, and the disappointed Sheikh presented himself to his\\nemployer. Osman passionately demanded of him if it was true that his\\nwife had saved the life of his deadliest enemy, when in her power. \"Most\\ntrue, praised be Allah!\" replied the Sheikh, drawing himself proudly up,\\nand presenting a jewel-hilted dagger to the old Bey; \"this weapon,\" he\\ncontinued, \"was your gift to me in the hour of your favour; had I met\\nElfy Bey, it should have freed you from your enemy. Had my wife betrayed\\nthe hospitality of the tent, it should have drank her blood; and now,\\nyou may use it against myself,\" he added, as he flung it at the\\nMameluke\\'s feet. This reverence for hospitality is one of the wild\\nvirtues that has survived from the days of the patriarchs, and it is\\nsingularly contrasted, yet interwoven with other and apparently opposite\\ntendencies. The Arab will rob you, if he is able; he will even murder\\nyou, if it suits his purpose; but, once under the shelter of his tribe\\'s\\nblack tents, or having eaten of his salt by the wayside, you have as\\nmuch safety in his company as his heart\\'s blood can purchase for you.\\nThe Bedouins are extortionate to strangers, dishonest to each other, and\\nreckless of human life. On the other hand, they are faithful to their\\ntrust, brave after their fashion, temperate, and patient of hardship and\\nprivation beyond belief. Their sense of right and wrong is not founded\\non the Decalogue, as may be well imagined, yet, from such principles as\\nthey profess they rarely swerve. Though they will freely risk their\\nlives to steal, they will not contravene the wild rule of the desert. If\\na wayfarer\\'s camel sinks and dies beneath its burden, the owner draws a\\ncircle round the animal in the sand, and follows the caravan. No Arab\\nwill presume to touch that lading, however tempting. Dr. Robinson\\nmentions that he saw a tent hanging from a tree near Mount Sinai, which\\nhis Arabs said had then been there a twelvemonth, and never would be\\ntouched until its owner returned in search of it.\\n\\n\\nHORRORS OF AFRICAN WARFARE.\\n\\n\\nThere appears to be a wild caprice amongst the institutions; if such\\nthey may be called, of all these tropical nations. In a neighbouring\\nstate to that of Abyssinia, the king, when appointed to the regal\\ndignity, retires into an island, and is never again visible to the eyes\\nof men but once--when his ministers come to strangle him; for it may not\\nbe that the proud monarch of Behr should die a natural death. No men,\\nwith this fatal exception, are ever allowed even to set foot upon the\\nisland, which is guarded by a band of Amazons. In another border\\ncountry, called Habeesh, the monarch is dignified with the title of\\nTiger. He was formerly Malek of Shendy, when it was invaded by Ismael\\nPasha, and was even then designated by this fierce cognomen. Ismael,\\nMehemet Ali\\'s second son, advanced through Nubia claiming tribute and\\nsubmission from all the tribes Nemmir (which signifies Tiger), the king\\nof Shendy, received him hospitably, as Mahmoud, our dragoman, informed\\nus, and, when he was seated in his tent, waited on him to learn his\\npleasure. \"My pleasure is,\" replied the invader, \"that you forthwith\\nfurnish me with slaves, cattle, and money, to the value of 100,000\\ndollars.\"--\"Pooh!\" said Nemmir, \"you jest; all my country could not\\nproduce what you require in one hundred moons.\"--\"Ha! Wallah!\" was the\\nyoung Pasha\\'s reply, and he struck the Tiger across the face with his\\npipe. If he had done so to his namesake of the jungle, the insult could\\nnot have roused fiercer feelings of revenge, but the human animal did\\nnot shew his wrath at once. \"It is well,\" he replied; \"let the Pasha\\nrest; _to-morrow he shall have nothing more to ask_.\" The Egyptian, and\\nthe few Mameluke officers of his staff, were tranquilly smoking towards\\nevening, entertained by some dancing-girls, whom the Tiger had sent to\\namuse them; when they observed that a huge pile of dried stalks of\\nIndian corn was rising rapidly round the tent. \"What means this?\"\\ninquired Ismael angrily; \"am not I Pasha?\"--\"It is but forage for your\\nhighness\\'s horses,\" replied the Nubian; \"for, were your troops once\\narrived, the people would fear to approach the camp.\" Suddenly the space\\nis filled with smoke, the tent-curtains shrivel up in flames, and the\\nPasha and his comrades find themselves encircled in what they well know\\nis their funeral pyre. Vainly the invader implores mercy, and assures\\nthe Tiger of his warm regard for him and all his family; vainly he\\nendeavours to break through the fiery fence that girds him round; a\\nthousand spears bore him back into the flames, and the Tiger\\'s\\ntriumphant yell and bitter mockery mingle with his dying screams. The\\nEgyptians perished to a man. Nemmir escaped up the country, crowned with\\nsavage glory, and married the daughter of a king, who soon left him his\\nsuccessor, and the Tiger still defies the old Pasha\\'s power. The latter,\\nhowever, took a terrible revenge upon his people: he burnt all the\\ninhabitants of the village nearest to the scene of his son\\'s slaughter,\\nand cut off the right hands of five hundred men besides. So much for\\nAfrican warfare.\\n\\n\\nCROCODILE SHOOTING.\\n\\n\\nThe first time a man fires at a crocodile is an epoch in his life. We\\nhad only now arrived in the waters where they abound; for it is a\\ncurious fact that none are ever seen below Mineych, though Herodotus\\nspeaks of them as fighting with the dolphins, at the mouths of the Nile.\\nA prize had been offered for the first man who detected a crocodile, and\\nthe crew had now been two days on the alert in search of them. Buoyed up\\nwith the expectation of such game, we had latterly reserved our fire for\\nthem exclusively; and the wild-duck and turtle, nay, even the vulture\\nand the eagle, had swept past, or soared above, in security. At length\\nthe cry of \"Timseach, timseach!\" was heard from half-a-dozen claimants\\nof the proffered prize, and half-a-dozen black fingers were eagerly\\npointed to a spit of sand, on which were strewn apparently some logs of\\ntrees. It was a covey of crocodiles! Hastily and silently the boat was\\nrun in shore. R. was ill, so I had the enterprise to myself, and\\nclambered up the steep bank with a quicker pulse than when I first\\nlevelled a rifle at a Highland deer. My intended victims might have\\nprided themselves on their superior nonchalance; and, indeed, as I\\napproached them, there seemed to be a sneer on their ghastly mouths and\\nwinking eyes. Slowly they rose, one after the other, and waddled to the\\nwater, all but one, the most gallant or most gorged of the party. He lay\\nstill until I was within a hundred yards of him; then slowly rising on\\nhis fin-like legs, he lumbered towards the river, looking askance at me,\\nwith an expression of countenance that seemed to say, \"He can do me no\\nharm; however, I may as well have a swim.\" I took aim at the throat of\\nthis supercilious brute, and, as soon as my hand steadied, the very\\npulsation of my finger pulled the trigger. Bang! went the gun! whizz!\\nflew the bullet; and my excited ear could catch the _thud_ with which it\\nplunged into the scaly leather of his neck. His waddle became a plunge,\\nthe waves closed over him, and the sun shone on the calm water, as I\\nreached the brink of the shore, that was still indented by the waving\\nof his gigantic tail. But there is blood upon the water, and he rises\\nfor a moment to the surface. \"A hundred piasters for the timseach,\" I\\nexclaimed, and half-a-dozen Arabs plunged into the stream. There! he\\nrises again, and the blacks dash at him as if he hadn\\'t a tooth in his\\nhead. Now he is gone, the waters close over him, and I never saw him\\nsince. From that time we saw hundreds of crocodiles of all sizes, and\\nfired shots,--enough of them for a Spanish revolution; but we never\\ncould get possession of any, even if we hit them, which to this day\\nremains doubtful.\\n\\n\\n~Remarkable Instance of Courage in a Lady.~\\n\\n\\nIn the Life of Thomas Day, Esq., an anecdote is related of Miss B----,\\nafterwards Mrs. Day, shewing with what remarkable effect presence of\\nmind and courage can tame the ferocity of the brute creation.\\n\\nMiss B. was, on one occasion, walking in company with another young lady\\nthrough a field, when a bull came running up to them with all the marks\\nof malevolence. Her friend began to run towards the stile, but was\\nprevented by Miss B., who told her, that as she could not reach the\\nstile soon enough to save herself, and as it is the nature of these\\nanimals to attack persons in flight, her life would be in great danger\\nif she attempted to run, and would be inevitably lost if she chanced to\\nfall; but that, if she would steal gently to the stile, she herself\\nwould take off the bull\\'s attention from her, by standing between them.\\nAccordingly, turning her face towards the animal with the firmest aspect\\nshe could assume, she fixed her eyes steadily upon his. It is said by\\ntravellers, that a lion itself may be controlled by the steady looks of\\na human being; but that, no sooner a man turns his back, than the beast\\nsprings upon him as his prey. Miss B., to whom this property of animals\\nseems to have been known, had the presence of mind to apply it to the\\nsafety of her friend and of herself. By her steady aspect she checked\\nthe bull\\'s career; but he shewed the strongest marks of indignation at\\nbeing so controlled, by roaring and tearing the ground with his feet and\\nhorns. While he was thus engaged in venting his rage on the turf, she\\ncautiously retreated a few steps, without removing her eyes from him.\\nWhen he observed that she had retreated, he advanced till she stopped,\\nand then he also stopped, and again renewed his frantic play. Thus by\\nrepeated degrees she at length arrived at the stile, where she\\naccomplished her safety; and thus, by a presence of mind rarely seen in\\na person of her youth and sex, she not only saved herself, but also, at\\nthe hazard of her own life, protected her friend. Some days afterwards,\\nthis bull gored its master.\\n\\n\\n~Indian Field Sports.~\\n\\n\\nWe give a few anecdotes illustrative of the above, from a work intitled\\n\"Sketches of Field Sports, as followed by the Natives of India,\" from\\nthe reading of which we have derived much pleasure. The authority is Dr.\\nJohnson, East India Company\\'s Service.\\n\\nHe begins by informing his readers, that the \"Shecarries\" (or professed\\nhunters) are generally Hindoos of a low caste, who gain their livelihood\\nentirely by catching birds, hares, and all sorts of animals; some of\\nthem confine themselves to catching birds and hares, whilst others\\npractise the art of catching birds and various animals; another\\ndescription of them live by destroying tigers.\\n\\n\\nMETHOD OF CATCHING BIRDS.\\n\\n\\nThose who catch birds equip themselves with a framework of split\\nbamboos, resembling the frame of a paper kite, the shape of the top of a\\ncoffin, and the height of a man, to which green bushes are fastened,\\nleaving two loop-holes to see through, and one lower down for their rod\\nto be inserted through. This framework, which is very light, they fasten\\nbefore them when they are in the act of catching birds, by which means\\nthey have both hands at liberty, and are completely concealed from the\\nview of the birds. The rod which they use is about twenty-four feet\\nlong, resembling a fishing-rod, the parts of which are inserted within\\none another, and the whole contained in a walking-stick.\\n\\nThey also carry with them horse-hair nooses of different sizes and\\nstrength, which they fasten to the rod: likewise bird-lime, and a\\nvariety of calls for the different kinds of birds, with which they\\nimitate them to the greatest nicety. They take with them likewise two\\nlines to which horse-hair nooses are attached for catching larger birds,\\nand a bag or net to carry their game.\\n\\nThus equipped, they sally forth, and as they proceed through the\\ndifferent covers, they use calls for such birds as generally resort\\nthere, which from constant practice is well known to them, and if any\\nbirds answer their call they prepare accordingly for catching them;\\nsupposing it to be a bevy of quail, they continue calling them, until\\nthey get quite close; they then arm the top of their rod with a feather\\nsmeared with bird-lime, and pass it through the loop-hole in their\\nframe of ambush, and to which they continue adding other parts, until\\nthey have five or six out, which they use with great dexterity, and\\ntouch one of the quail with the feather, which adheres to them; they\\nthen withdraw the rod, arm it again, and touch three or four more in the\\nsame manner before they attempt to secure any of them.\\n\\nIn this way they catch all sorts of small birds not much larger than\\nquail, on the ground and in trees. If a brown or black partridge answers\\ntheir call, instead of bird-lime, they fasten a horse-hair noose to the\\ntop of their rod, and when they are close to the birds, they keep\\ndipping the top of their rod with considerable skill until they fasten\\nthe noose on one of their necks; they then draw him in, and go on\\ncatching others in the same way. It is surprising to see with what cool\\nperseverance they proceed. In a similar manner they catch all kinds of\\nbirds, nearly the size of partridges.\\n\\n\\nTHE HYENA.\\n\\n\\nA servant of Mr. William Hunter\\'s, by name Thomas Jones, who lived at\\n_Chittrah_, had a full grown hyena which ran loose about his house like\\na dog, and I have seen him play with it with as much familiarity. They\\nfeed on small animals and carrion, and I believe often come in for the\\nprey left by tigers and leopards after their appetites have been\\nsatiated. They are great enemies of dogs, and kill numbers of them.\\n\\nThe natives of India affirm that tigers, panthers, and leopards, have a\\ngreat aversion to hyenas, on account of their destroying their young,\\nwhich I believe they have an opportunity of doing, as the parents leave\\nthem during the greatest part of the day. The inhabitants, therefore,\\nfeel no apprehension in taking away the young whenever they find them,\\nknowing the dam is seldom near.... Hyenas are slow in their pace, and\\naltogether inactive; I have often seen a few terriers keep them at bay,\\nand bite them severely by the hind quarter; their jaws, however, are\\nexceedingly strong, and a single bite, without holding on more than a\\nfew seconds, is sufficient to kill a large dog. They stink horribly,\\nmake no earths of their own, lie under rocks, or resort to the earths of\\nwolves, as foxes do to those of badgers; and it is not uncommon to find\\nwolves and hyenas in the same bed of earths.\\n\\nI was informed by several gentlemen, of whose veracity I could not\\ndoubt, that Captain Richards, of the Bengal Native Infantry, had a\\nservant of the tribe of _Shecarries_, who was in the habit of going into\\nthe earths of wolves, fastening strings on them, and on the legs of\\nhyenas, and then drawing them out; he constantly supplied his master and\\nthe gentlemen at the station with them, who let them loose on a plain,\\nand rode after them with spears, for practice and amusement. This man\\npossessed such an acute and exquisite sense of smelling, that he could\\nalways tell by it if there were any animals in the earths, and could\\ndistinguish whether they were hyenas or wolves.\\n\\n\\nTHE BEAR.\\n\\n\\nBears will often continue on the road in front of the palanquin for a\\nmile or two, tumbling and playing all sorts of antics, as if they were\\ntaught to do so. I believe it is their natural disposition; for they\\ncertainly are the most amusing creatures imaginable in their wild state.\\nIt is no wonder that with monkeys they are led about to amuse mankind.\\nIt is astonishing, as well as ludicrous, to see them climb rocks, and\\ntumble or rather roll down precipices. If they are attacked by any\\nperson on horseback, they stand erect on their hind legs, shewing a fine\\nset of white teeth, and making a cackling kind of noise. If the horse\\ncomes near them, they try to catch him by the legs, and if they miss\\nhim, they tumble over and over several times. They are easily speared by\\na person mounted on a horse that is bold enough to go near them.\\n\\n\\nSAGACITY OF THE ELEPHANT.\\n\\n\\nAn elephant belonging to Mr. Boddam, of the Bengal Civil Service, at\\n_Gyah_, used every day to pass over a small bridge leading from his\\nmaster\\'s house into the town of _Gyah_. He one day refused to go over\\nit, and it was with great difficulty, by goring him most cruelly with\\nthe _Hunkuss_ [iron instrument], that the _Mahout_ [driver] could get\\nhim to venture on the bridge, the strength of which he first tried with\\nhis trunk, shewing clearly that he suspected that it was not\\nsufficiently strong. At last he went on, and before he could get over,\\nthe bridge gave way, and they were precipitated into the ditch, which\\nkilled the driver, and considerably injured the elephant. It is\\nreasonable to suppose that the elephant must have perceived its feeble\\nstate when he last passed over it. It is a well known fact, that\\nelephants will seldom or ever go over strange bridges, without first\\ntrying with their trunks if they be sufficiently strong to bear their\\nweight,--nor will they ever go into a boat without doing the same.\\n\\nI had a remarkably quiet and docile elephant, which one day came home\\nloaded with branches of trees for provender, followed by a number of\\nvillagers, calling for mercy (their usual cry when ill used);\\ncomplaining that the _Mahout_ had stolen a kid from them, and that it\\nwas then on the elephant, under the branches of the trees. The _Mahout_\\ntook an opportunity of decamping into the village and hiding himself. I\\nordered the elephant to be unloaded, and was surprised to see that he\\nwould not allow any person to come near to him, when at all other times\\nhe was perfectly tractable and obedient. Combining all the\\ncircumstances, I was convinced that the _Mahout_ was guilty, and to get\\nrid of the noise, I recompensed the people for the loss of their kid. As\\nsoon as they were gone away, the elephant allowed himself to be\\nunloaded, and the kid was found under the branches, as described by the\\npeople. I learnt from my _Sarcar_, that similar complaints had been made\\nto him before, and that the rascal of a _Mahout_ made it a practice to\\nride the elephant into the midst of a herd of goats, and had taught him\\nto pick up any of the young ones he directed; he had also accustomed\\nhim to steal their pumpions and other vegetables, that grew against the\\ninside of their fences like French beans, which could only be reached by\\nan elephant. He was the best _Mahout_ I ever knew, and so great a rogue\\nthat I was obliged to discharge him.\\n\\nThe very day that he left my service, the elephant\\'s eyes were closed,\\nwhich he did not open again in less than a fortnight, when it was\\ndiscovered that he was blind. Two small eschars, one in each eye, were\\nvisible, which indicated pretty strongly that he had been made blind by\\nsome sharp instrument, most probably by a heated needle. The suspicion\\nwas very strong against the former keeper, of whom I never heard\\nanything after. The elephant I frequently rode on, shooting, for many\\nyears after this, through heavy covers, intersected with ravines,\\nrivers, and over hollow and uneven ground, and he scarcely ever made a\\nfalse step with me, and never once tumbled. He used to touch the ground\\nwith his trunk on every spot where his feet were to be placed, and in\\nso light and quick a manner as scarcely to be perceived. The _Mahout_\\nwould often make him remove large stones, lumps of earth, or timber, out\\nof his way, frequently climb up and down banks that no horse could get\\nover. He would also occasionally break off branches of trees that were\\nin the way of the _Howdah_, to enable me to pass.\\n\\nAlthough perfectly blind, he was considered one of the best sporting\\nelephants of his small size in the country, and he travelled at a\\ntolerably good rate, and was remarkably easy in his paces.\\n\\n\\nANECDOTES OF THE TIGER.\\n\\n\\nAn occurrence nearly similar happened to me soon after, which put an end\\nto my shooting on foot. From that time to the period of my leaving\\n_Chittrah_, which was many years after, I always went out to shoot on an\\nelephant. The circumstance I allude to was as follows:--Fifty or sixty\\npeople were beating a thick cover. I was on the outside of it, with a\\nman holding my horse, and another servant with a hog\\'s spear; when those\\nwho were driving the cover called _Suer! Suer!_ which is the\\n_Hindoostanee_ name for hog. Seeing something move the bushes about\\ntwenty yards from me, and supposing it to be a hog, I fired at the spot,\\nwith ten or a dozen small balls. Instantly on the explosion of my gun, a\\ntiger roared out, and came galloping straight towards us. I dipped under\\nthe horse\\'s belly, and got on the opposite side from him. He came within\\na few yards of us, and then turned off growling into the cover.\\n\\nWhen the people came out, they brought with them a dead hog, partly\\ndevoured. These two cases, I think, shew clearly that tigers are\\nnaturally cowardly. They generally take their prey by surprise, and\\nwhenever they attack openly, it is reasonable to conclude that they must\\nbe extremely hungry; which I believe is often the case, as their killing\\nanimals of the forest must be very precarious. It is the general opinion\\nof the inhabitants, that when a tiger has tasted human blood he prefers\\nit to all other food. A year or two sometimes elapses without any one\\nbeing killed by a tiger for several miles round, although they are often\\nseen in that space, and are known to destroy cattle; but as soon as one\\nman is killed, others shortly after share the same fate. This, I\\nimagine, is the reason why the natives entertain an idea that they\\nprefer men to all other food. I account for it otherwise. Tigers are\\nnaturally afraid of men, and, in the first instance, seldom attack them,\\nunless compelled by extreme hunger. When once they have ventured an\\nattack, they find them much easier prey than most animals of the forest,\\nand always to be met with near villages, and on public roads, without\\nthe trouble of hunting about for them through the covers.\\n\\nA tigress with two cubs lurked about the _Kutkumsandy_ pass, and during\\ntwo months killed a man almost every day, and on some days two. Ten or\\ntwelve of the people belonging to government (carriers of the post-bags)\\nwere of the number. In fact, the communication between the Presidency\\nand the upper provinces was almost entirely cut off. The government,\\ntherefore, was induced to offer a large reward to any person who killed\\nthe tigress.\\n\\nShe was fired at, and, adds Mr. J., never ... \"heard of after;\" from\\nwhich it may be presumed she was wounded. It is fortunate for the\\ninhabitants of that country, that tigers seldom survive any wound; their\\nblood being always in a state predisposing to putrefaction, consequence\\nof the extreme heat, and their living entirely on animal food....\\n\\nTwo _Biparies_[1] were driving a string of loaded bullocks to _Chittrah_\\nfrom _Palamow_. When they were come within a few miles of the former\\nplace, a tiger seized on the man in the rear, which was seen by a\\n_Guallah_ [herdsman], as he was watching his buffaloes grazing. He\\nboldly ran to the man\\'s assistance, and cut the tiger severely with his\\nsword; upon which he dropped the _Biparie_ and seized the herdsman: the\\nbuffaloes observing it, attacked the tiger, and rescued the poor man;\\nthey tossed him about from one to the other, and, to the best of my\\nrecollection, killed him; but of that I am not quite positive. Both of\\nthe wounded men were brought to me. The _Biparie_ recovered, and the\\nherdsman died.\\n\\n[Footnote 1: _Bipar_ signifies merchandise, and _Biparies_ are people\\nwho buy grain, and other articles, which they transport from one part of\\nthe country to another on bullocks.]\\n\\nAn elderly man and his wife (of the lowest caste of _Hindoos_, called\\n_dooms_, who live chiefly by making mats and baskets) were each carrying\\nhome a bundle of wood, and as they were resting their burdens on the\\nground, the old man hearing a strange noise, looked about, and saw a\\ntiger running off with his wife in his mouth. He ran after them, and\\nstruck the tiger on the back with a small axe: the tiger dropt the wife,\\nwho was soon after brought to me. One of her breasts was almost entirely\\ntaken away, and the other much lacerated: she had also several deep\\nwounds in the back of her neck, by which I imagine the tiger struck at\\nher with his two fore paws; one on the neck, and the other on the\\nbreast. This, if I may judge from the number I have seen wounded, is\\ntheir usual way of attacking men. The old woman was six months under my\\ncare, and at last recovered.\\n\\nAs an old Mahometan priest was travelling at mid-day on horseback,\\nwithin a few miles of _Chittrah_, with his son, an athletic young man,\\nwalking by his side, they heard a tiger roaring near them. The son urged\\nhis father to hasten on; the old man continued at a slow pace, observing\\nthat there was no danger, the tiger would not molest them. He then began\\ncounting his beads, and offering his prayers to the Almighty; in the act\\nof which he was knocked off his horse, and carried away by the tiger;\\nthe son ran after them, and cut the tiger with his sword; he dropped the\\nfather, seized the son, and carried him off. The father was brought to\\n_Chittrah_, and died the same day; the son was never heard of\\nafterwards. In this instance, I think, the tiger must have been\\nravenously hungry, or he would not have roared when near his prey; it is\\nwhat they seldom or ever do, except in the very act of seizing....\\n\\nSome idea may be formed how numerous the tigers must have been at one\\nperiod in Bengal, from the circumstance, that one gentleman is reported\\nto have killed upwards of three hundred and sixty.\\n\\n\\n~Death of Sir John Moore.~\\n\\n\\nFrom Mr. Southey\\'s History of the Peninsular War, a work of sterling\\nmerit.\\n\\nMarshal Soult\\'s intention was to force the right of the British, and\\nthus to interpose between Corunna and the army, and cut it off from the\\nplace of embarkation. Failing in this attempt, he was now endeavouring\\nto outflank it. Half of the 4th regiment was therefore ordered to fall\\nback, forming an obtuse angle with the other half. This manoeuvre was\\nexcellently performed, and they commenced a heavy flanking fire: Sir\\nJohn Moore called out to them, that this was exactly what he wanted to\\nbe done, and rode on to the 50th, commanded by Majors Napier and\\nStanhope. They got over an inclosure in their front, charged the enemy\\nmost gallantly, and drove them out of the village of Elvina; but Major\\nNapier, advancing too far in the pursuit, received several wounds, and\\nwas made prisoner, and Major Stanhope was killed.\\n\\nThe General now proceeded to the 42nd. \"Highlanders,\" said he, \"remember\\nEgypt!\" They rushed on, and drove the French before them, till they were\\nstopped by a wall. Sir John accompanied them in this charge. He now sent\\nCaptain Hardinge to order up a battalion of Guards to the left flank of\\nthe 42nd. The officer commanding the light infantry conceived at this\\nthat they were to be relieved by the Guards, because their ammunition\\nwas nearly expended, and he began to fall back. The General, discovering\\nthe mistake, said to them, \"My brave 42nd, join your comrades:\\nammunition is coming, and you have your bayonets!\" Upon this, they\\ninstantly moved forward. Captain Hardinge returned, and pointed out to\\nthe General where the Guards were advancing. The enemy kept up a hot\\nfire, and their artillery played incessantly on the spot where they were\\nstanding. A cannon-shot struck Sir John, and carried away his left\\nshoulder, and part of the collar-bone, leaving the arm hanging by the\\nflesh. He fell from his horse on his back; his countenance did not\\nchange, neither did he betray the least sensation of pain. Captain\\nHardinge, who dismounted, and took him by the hand, observed him\\nanxiously watching the 42nd, which was warmly engaged, and told him they\\nwere advancing; and upon that intelligence his countenance brightened.\\nColonel Graham, who now came up to assist him, seeing the composure of\\nhis features, began to hope that he was not wounded, till he perceived\\nthe dreadful laceration. From the size of the wound, it was in vain to\\nmake any attempt at stopping the blood; and Sir John consented to be\\nremoved in a blanket to the rear. In raising him up, his sword, hanging\\non the wounded side, touched his arm, and became entangled between his\\nlegs. Captain Hardinge began to unbuckle it; but the General said, in\\nhis usual tone and manner, and in a distinct voice, \"It is as well as it\\nis; I had rather it should go out of the field with me.\" Six soldiers\\nof the 42nd and the Guards bore him. Hardinge, observing his composure,\\nbegan to hope that the wound might not be mortal, and said to him, he\\ntrusted he might be spared to the army, and recover. Moore turned his\\nhead, and looking stedfastly at the wound for a few seconds, replied,\\n\"No, Hardinge, I feel that to be impossible.\"\\n\\nAs the soldiers were carrying him slowly along, he made them frequently\\nturn round, that he might see the field of battle, and listen to the\\nfiring; and he was well pleased when the sound grew fainter. A\\nspring-wagon came up, bearing Colonel Wynch, who was wounded: the\\nColonel asked who was in the blanket, and being told it was Sir John\\nMoore, wished him to be placed in the wagon. Sir John asked one of the\\nHighlanders whether he thought the wagon or the blanket was best? and\\nthe man said the blanket would not shake him so much, as he and the\\nother soldiers would keep the step, and carry him easy. So they\\nproceeded with him to his quarters at Corunna, weeping as they went....\\n\\nThe General lived to hear that the battle was won. \"Are the French\\nbeaten?\" was the question which he repeated to every one who came into\\nhis apartment; and he expressed how great a satisfaction it was to him\\nto know that they were defeated. \"I hope,\" he said, \"the people of\\nEngland will be satisfied! I hope my country will do me justice,\" Then,\\naddressing Colonel Anderson, who had been his friend and companion in\\narms for one-and-twenty years, he said to him, \"Anderson, you know that\\nI have always wished to die this way--You will see my friends as soon as\\nyou can:--tell them everything--Say to my mother\"--But here his voice\\nfailed, he became excessively agitated, and did not again venture to\\nname her. Sometimes he asked to be placed in an easier posture. \"I feel\\nmyself so strong,\" he said, \"I fear I shall be long dying. It is great\\nuneasiness--it is great pain.\" But, after a while, he pressed Anderson\\'s\\nhand close to his body, and, in a few minutes, died without a struggle.\\nHe fell, as it had ever been his wish to do, in battle and in victory.\\nNo man was more beloved in private life, nor was there any general in\\nthe British army so universally respected. All men had thought him\\nworthy of the chief command. Had he been less circumspect,--had he\\nlooked more ardently forward, and less anxiously around him, and on all\\nsides, and behind,--had he been more confident in himself and in his\\narmy, and impressed with less respect for the French Generals, he would\\nhave been more equal to the difficulties of his situation. Despondency\\nwas the radical weakness of his mind. Personally he was as brave a man\\nas ever met death in the field; but he wanted faith in British courage:\\nand it is faith by which miracles are wrought in war as well as in\\nreligion. But let it ever be remembered with gratitude, that, when some\\nof his general officers advised him to conclude the retreat by a\\ncapitulation, Sir John Moore preserved the honour of England.\\n\\nHe had often said that, if he were killed in battle, he wished to be\\nburied where he fell. The body was removed at midnight to the citadel of\\nCorunna. A grave was dug for him on the rampart there, by a party of the\\n9th regiment, the aides-du-camp attending by turns. No coffin could be\\nprocured; and the officers of his staff wrapped the body, dressed as it\\nwas, in a military cloak and blankets. The interment was hastened; for,\\nabout eight in the morning, some firing was heard, and they feared that,\\nif a serious attack were made, they should be ordered away, and not\\nsuffered to pay him their last duty. The officers of his staff bore him\\nto the grave; the funeral service was read by the chaplain; and the\\ncorpse was covered with earth.\\n\\nThus, with a solemn splendour and a sad glory, closed the career of a\\ngallant but unfortunate commander.\\n\\nWe subjoin the beautiful Ode on the Death of Sir John, written by the\\nRev. Mr. Wolfe:--\\n\\n  THE BURIAL OF SIR JOHN MOORE.\\n\\n  Not a drum was heard, not a funeral-note,\\n    As his corse to the ramparts we hurried;\\n  Not a soldier discharged his farewell-shot\\n    O\\'er the grave where our hero we buried.\\n\\n  We buried him darkly at dead of night,\\n    The sods with our bayonets turning,\\n  By the straggling moonbeam\\'s misty light,\\n    And the lantern dimly burning.\\n\\n  No useless coffin inclosed his breast,\\n    Not in sheet or in shroud we wound him,\\n  But he lay like a warrior taking his rest,\\n    With his martial cloak around him.\\n\\n  Few and short were the prayers we said,\\n    And we spoke not a word of sorrow;\\n  But we stedfastly gazed on the face that was dead,\\n    And we bitterly thought of the morrow.\\n\\n  We thought, as we hallowed his narrow bed,\\n    And smoothed down his lonely pillow,\\n  That the foe and the stranger would tread o\\'er his head,\\n    And we far away on the billow!\\n\\n  Lightly they\\'ll talk of the spirit that\\'s gone,\\n    And o\\'er his cold ashes upbraid him,--\\n  But little he\\'ll reck, if they let him sleep on\\n    In the grave where a Briton has laid him.\\n\\n  But half of our heavy task was done,\\n    When the clock struck the hour for retiring;\\n  And we heard the distant and random gun\\n    That the foe was sullenly firing.\\n\\n  Slowly and sadly we laid him down,\\n    From the field of his fame fresh and gory;\\n  We carved not a line, and we raised not a stone--\\n    But we left him alone with his glory.\\n\\n\\n~Persian Tyranny.~\\n\\n\\nSir R.K. Porter, in his travels in Persia, met with the sufferer from\\ndespotic tyranny and cruelty whose story is here related. He informs us,\\nthat the benignity of this person\\'s countenance, united with the\\ncrippled state of his venerable frame, from the effects of his\\nprecipitation from the terrible height of execution, excited his\\ncuriosity to inquire into the particulars of so amazing a preservation.\\n\\nEntering into conversation on the amiable characters of the reigning\\nroyal family of Persia, and comparing the present happiness of his\\ncountry under their rule, with its misery during the sanguinary\\nusurpation of the tyrant Nackee Khan, the good old man, who had himself\\nbeen so signal an example of that misery, was easily led to describe the\\nextraordinary circumstances of his own case. Being connected with the\\nlast horrible acts, and consequent fall of the usurper, a double\\ninterest accompanied his recital, the substance of which was nearly as\\nfollows:--\\n\\nHaving by intrigues and assassinations made himself master of the regal\\npower at Shiraz, this monster of human kind found that the governor of\\nIspahan, instead of adhering to him, had proclaimed the accession of the\\nlawful heir. No sooner was the intelligence brought to Nackee Khan than\\nhe put himself at the head of his troops, and set forward to revenge his\\ncontemned authority. When he arrived as far as Yezdikast, he encamped\\nhis army for a short halt, near the tomb on the north side. Being as\\ninsatiable of money as blood, he sent to the inhabitants of Yezdikast,\\nand demanded an immense sum in gold, which he insisted should instantly\\nbe paid to his messengers. Unable to comply, the fact was respectfully\\npleaded in excuse; namely, \"that all the money the city had possessed\\nwas already taken away by his own officers, and those of the opposite\\nparty; and that, at present, there was scarce a tomaun in the place.\"\\nEnraged at this answer, he repaired, full of wrath, to the town, and,\\nordering eighteen of the principal inhabitants to be brought before him,\\nagain demanded the money, but with threats and imprecations which made\\nthe hearers tremble. Still, however, they could only return the same\\nanswer--\"their utter inability to pay;\" and the tyrant, without a\\nmoment\\'s preparation, commanded the men to be seized, and hurled from\\nthe top of the precipice in his sight. Most of them were instantly\\nkilled on the spot; others, cruelly maimed, died in terrible agonies\\nwhere they fell; and the describer of the dreadful scene was the only\\none who survived. He could form no idea of how long he lay after\\nprecipitation, utterly senseless; \"but,\" added he, \"by the will of God I\\nbreathed again; and, on opening my eyes, found myself among the dead and\\nmangled bodies of my former neighbours and friends. Some yet groaned.\"\\nHe then related, that, in the midst of his horror at the sight, he heard\\nsounds of yet more terrible acts, from the top of the cliff; and,\\nmomentarily strengthened by fear of he knew not what, for he believed\\nthat death had already grasped his own poor shattered frame, he managed\\nto crawl away, unperceived, into one of the numerous caverned holes\\nwhich perforate the foot of the steep. He lay there in an expiring\\nstate the whole night, but in the morning was providentially discovered\\nby some of the town\\'s people, who came to seek the bodies of their\\nmurdered relatives, to mourn over and take them away for burial. The\\npoor man, feeble as he was, called to these weeping groups; who, to\\ntheir astonishment and joy, drew out one survivor from the dreadful heap\\nof slain. No time was lost in conveying him home, and administering\\nevery kind of assistance; but many months elapsed before he was able to\\nmove from his house, so deep had been the injuries inflicted in his\\nfall.\\n\\nIn the course of his awful narrative, he told us, that the noise which\\nhad so appalled him, as he lay among the blood-stained rocks, was indeed\\nthe acting of a new cruelty of the usurper. After having witnessed the\\nexecution of his sentence on the eighteen citizens, whose asseverations\\nhe had determined not to believe, Nackee Khan immediately sent for a\\ndevout man, called Saied Hassan, who was considered the sage of the\\nplace, and, for his charities, greatly beloved by the people. \"This\\nman,\" said the Khan, \"being a descendant of the Prophet, must know the\\ntruth, and will tell it me. He shall find me those who can and will pay\\nthe money.\" But the answer given by the honest Saied being precisely the\\nsame with that of the innocent victims who had already perished, the\\ntyrant\\'s fury knew no bounds, and, rising from his seat, he ordered the\\nholy man to be rent asunder in his presence, and then thrown over the\\nrock, to increase the monument of his vengeance below.\\n\\nIt was the tumult of this most dreadful execution, which occasioned the\\nnoise that drove the affrighted narrator to the shelter of any hole from\\nthe eye of merciless man. But the cruel scene did not end here. Even in\\nthe yet sensible ear of the Saied, expiring in agonies, his execrable\\nmurderer ordered that his wife and daughters should be given up to the\\nsoldiers; and that, in punishment of such universal rebellion in the\\ntown, the whole place should be razed to the ground. But this last act\\nof blood on a son of the Prophet cost the perpetrator his life. For the\\nsoldiers themselves, and the nobles who had been partisans of the\\nusurper, were so struck with horror at the sacrilegious murder, and\\nappalled with the threatened guilt of violating women of the sacred\\nfamily, that they believed a curse must follow the abettors of such a\\nman. The next step, in their minds, was to appease Heaven by the\\nimmolation of the offender; and, in the course of that very night, a\\nband of his servants cut the cords of his tent, which, instantly falling\\nin upon him, afforded them a secure opportunity of burying their\\nponiards in his body. The first strokes were followed by thousands. So\\ndetested was the wretch, that in a few minutes his remains were hewn and\\ntorn to pieces. It does not become men to lift the veil which lies over\\nthe whole doom of a ruthless murderer; but there is something in the\\nlast mortal yell of a tyrant, whether it be a Robespierre or a Nackee\\nKhan, which sounds as if mingled with a dreadful echo from the eternal\\nshore.\\n\\n\\n~Sketches in Virginia.~\\n\\n\\nThe Rock Bridge is described by Mr. Jefferson, late President of the\\nUnited States, as one of the most sublime of the productions of Nature.\\nIt is on the ascent of a hill which seems to have been cloven through\\nits length by some great convulsion of Nature.\\n\\nAlthough the sides of the bridge are provided in some parts with a\\nparapet of fixed rocks, yet few persons have resolution to walk to them,\\nand look over into the abyss. The passenger involuntarily falls on his\\nhands, creeps to the parapet, and peeps over it. Looking down from this\\nheight for the space of a minute, occasions a violent headache; and the\\nview from beneath is delightful in the extreme, as much as that from\\nabove is exquisitely painful.\\n\\nThe following beautiful sketch is from the pen of the Rev. John Todd, of\\nPhiladelphia, author of the Student\\'s Manual, Simple Sketches, and other\\nadmired works.\\n\\n\\nROCK BRIDGE.\\n\\n\\nOn a lovely morning towards the close of spring, I found myself in a\\nvery beautiful part of the great valley of Virginia. Spurred on by\\nimpatience, I beheld the sun rising in splendour, and changing the blue\\ntints on the tops of the lofty Alleghany mountains into streaks of\\npurest gold; and nature seemed to smile in the freshness of beauty. A\\nride of about fifteen miles, and a pleasant woodland ramble of about\\ntwo, brought myself and my companion to the great NATURAL BRIDGE.\\n\\nAlthough I had been anxiously looking forward to this time, and my mind\\nhad been considerably excited by expectation, yet I was not altogether\\nprepared for this visit. This great work of nature is considered by many\\nas the second great curiosity in our country, Niagara Falls being the\\nfirst. I do not expect to convey a very correct idea of this bridge; for\\nno description can do this.\\n\\nThe Natural Bridge is entirely the work of God. It is of solid\\nlimestone, and connects two huge mountains together, by a most beautiful\\narch over which there is a great wagon road. Its length from one\\nmountain to the other is nearly eighty feet, its width about\\nthirty-five, its thickness forty-five, and its perpendicular height\\nabove the water is not far from two hundred and twenty feet. A few\\nbushes grow on its top, by which the traveller may hold himself as he\\nlooks over. On each side of the stream, and near the bridge, are rocks\\nprojecting ten or fifteen feet over the water, and from two hundred to\\nthree hundred feet from its surface, all of limestone. The visitor\\ncannot give so good a description of the bridge as he can of his\\nfeelings at the time. He softly creeps out on a shaggy projecting rock,\\nand, looking down a chasm from forty to sixty feet wide, he sees, nearly\\nthree hundred feet below, a wild stream foaming and dashing against the\\nrocks beneath, as if terrified at the rocks above. This stream is called\\nCedar Creek. He sees under the arch, trees whose height is seventy feet;\\nand yet, as he looks down upon them, they appear like small bushes of\\nperhaps two or three feet in height. I saw several birds fly under the\\narch, and they looked like insects. I threw down a stone, and counted\\nthirty-four before it reached the water. All hear of heights and of\\ndepths, but they here _see_ what is high, and they tremble, and _feel_\\nit to be deep. The awful rocks present their everlasting butments, the\\nwater murmurs and foams far below, and the two mountains rear their\\nproud heads on each side, separated by a channel of sublimity. Those who\\nview the sun, the moon, and the stars, and allow that none but God could\\nmake them, will here be impressed that none but an _Almighty_ God could\\nbuild a bridge like this.\\n\\nThe view of the bridge from below is as pleasing as the top view is\\nawful. The arch from beneath would seem to be about two feet in\\nthickness. Some idea of the distance from the top to the bottom may be\\nformed, from the fact, that as I stood on the bridge and my companion\\nbeneath, neither of us could speak sufficiently loud to be heard by the\\nother. A man, from either view, does not appear more than four or five\\ninches in height.\\n\\nAs we stood under this beautiful arch, we saw the place where visitors\\nhave often taken the pains to engrave their names upon the rock. Here\\nWashington climbed up twenty-five feet, and carved his own name, where\\nit still remains. Some, wishing to immortalise their names, have\\nengraven them deep and large, while others have tried to climb up and\\ninsert them high in this book of fame.\\n\\nA few years since, a young man, being ambitious to place his name above\\nall others, was very near losing his life in the attempt. After much\\nfatigue he climbed up as high as possible, but found that the person who\\nhad before occupied his place was taller than himself, and consequently\\nhad placed his name above his reach. But he was not thus to be\\ndiscouraged. He opened a large jack-knife, and, in the soft limestone,\\nbegan to cut places for his hands and feet. With much patience and\\nindustry he worked his way upwards, and succeeded in carving his name\\nhigher than the most ambitious had done before him. He could now\\ntriumph, but his triumph was short; for he was placed in such a\\nsituation that it was impossible to descend, unless he fell upon the\\nragged rocks beneath him. There was no house near, from whence his\\ncompanions could get assistance. He could not long remain in that\\ncondition, and, what was worse, his friends were too much frightened to\\ndo anything for his relief. They looked upon him as already dead,\\nexpecting every moment to see him precipitated upon the rocks below and\\ndashed to pieces. Not so with himself. He determined to ascend.\\nAccordingly he plies the rock with his knife, cutting places for his\\nhands and feet, and gradually ascended with incredible labour. He exerts\\nevery muscle. His life was at stake, and all the terrors of death rose\\nbefore him. He dared not look downwards, lest his head should become\\ndizzy; and perhaps on this circumstance his life depended. His\\ncompanions stood at the top of the rock, exhorting and encouraging him.\\nHis strength was almost exhausted; but a bare possibility of saving his\\nlife still remained; and hope, the last friend of the distressed, had\\nnot yet forsaken him. His course upwards was rather oblique than\\nperpendicular. His most critical moment had now arrived. He had ascended\\nconsiderably more than two hundred feet, and had still further to rise,\\nwhen he felt himself fast growing weak. He thought of his friends, and\\nall his earthly joys, and he could not leave them. He thought of the\\ngrave, and dared not meet it. He now made his last effort and succeeded.\\nHe had cut his way not far from two hundred and fifty feet from the\\nwater, in a course almost perpendicular; and in a little less than two\\nhours, his anxious companions reached him a pole from the top, and drew\\nhim up. They received him with shouts of joy, but he himself was\\ncompletely exhausted. He immediately fainted on reaching the top, and it\\nwas some time before he could be recovered!\\n\\nIt was interesting to see the path up these awful rocks, and to follow\\nin imagination this bold youth as he thus saved his life. His name\\nstands far above all the rest, a monument of hardihood, of rashness, and\\nof folly.\\n\\nWe lingered around this seat of grandeur about four hours; but, from my\\nown feelings, I should not have supposed it over half an hour. There is\\na little cottage near, lately built; here we were desired to write our\\nnames, as visitors of the bridge, in a large book kept for this purpose.\\nTwo large volumes were nearly filled in this manner already. Having\\nimmortalised our names by enrolling them in this book, we slowly and\\nsilently returned to our horses, wondering at this great work of nature;\\nand we could not but be filled with astonishment at the amazing power of\\nHim who can clothe Himself in wonder and terror, or throw around His\\nworks a mantle of sublimity.\\n\\n\\nWIER\\'S CAVE.\\n\\n\\nAbout three days\\' ride from the Natural Bridge brought Mr. Todd and his\\ncompanions to a place called Port Republic, about twenty miles from the\\ntown of Staunton. Here they prepared themselves to visit this other\\nnatural curiosity.\\n\\nThe shower was now over, which had wet us to the skin--the sun was\\npouring down his most scorching rays--the heavy thunder had gone by; we\\nthrew around our delighted eyes, and beheld near us the lofty Alleghany\\nrearing his shaggy head. The south branch of the Shenandoah river, with\\nits banks covered with beautiful trees, was murmuring at our feet--a\\nlovely plain stretched below us, as far as the eye could reach; and we,\\nwith our guide, were now standing about half way up a hill nearly two\\nhundred feet high, and so steep that a biscuit may be thrown from its\\ntop into the river at its foot--we were standing at the mouth of WIER\\'S\\nCAVE. This cavern derives its name from _Barnet Wier_, who discovered it\\nin the year 1804. It is situated near Madison\\'s Cave, so celebrated;\\nthough the latter cannot be compared with the former.\\n\\nThere were three of us, besides our guide, with lighted torches, and our\\nloins girded, now ready to descend into the cave. We took our torches in\\nour left hands and entered. The mouth was so small that we could descend\\nonly by creeping, one after another. A descent of almost twenty yards\\nbrought us into the first room. The cave was exceedingly cold, dark, and\\nsilent, like the chambers of death. In this manner we proceeded, now\\ndescending thirty or forty feet--now ascending as high--now creeping on\\nour hands and knees, and now walking in large rooms--the habitations of\\nsolitude. The mountain seems to be composed almost wholly of limestone,\\nand by this means the cave is lined throughout with the most beautiful\\nincrustations and stalactites of carbonated lime, which are formed by\\nthe continual dripping of the water through the roof. These stalactites\\nare of various and elegant shapes and colours, often bearing a striking\\nresemblance to animated nature. At one place we saw over our heads what\\nappeared to be a _waterfall_ of the most beautiful kind. Nor could the\\nimagination be easily persuaded that it was not a reality. You could see\\nthe water boiling and dashing down,--see its white spray and foam--but\\nit was all solid limestone.\\n\\nThus we passed onward in this world of solitude--now stopping to admire\\nthe beauties of a single stalactite--now wondering at the magnificence\\nof a large room--now creeping through narrow passages, hardly wide\\nenough to admit the body of a man,--and now walking in superb\\ngalleries, until we came to the largest room, called WASHINGTON HALL.\\nThis is certainly the most elegant room I ever saw. It is about two\\nhundred and seventy feet in length, about thirty-five in width, and\\nbetween thirty and forty feet high. The roof and sides are very\\nbeautifully adorned by the tinsels which Nature has bestowed in the\\ngreatest profusion, and which sparkle like the diamond, while surveyed\\nby the light of torches. The floor is flat, and smooth, and solid. I was\\nforemost of our little party in entering the room, and was not a little\\nstartled as I approached the centre, to see a figure, as it were, rising\\nup before me out of the solid rock. It was not far from seven feet high,\\nand corresponded in every respect to the common idea of a ghost. It was\\nvery white, and resembled a tall man clothed in a shroud. I went up to\\nit sideways, though I could not really expect to meet a ghost in a place\\nlike this. On examination I found it was a very beautiful piece of the\\ncarbonate of lime, very transparent, and very much in the shape of a\\nman. This is called WASHINGTON\\'S STATUE--as if Nature would do for this\\nhero what his delivered country has not done--rear a statue to his\\nmemory.\\n\\nHere an accident happened which might have been serious. One of our\\nparty had purposely extinguished his light, lest we should not have\\nenough to last. My companion accidentally put out his light, and in\\nsport came and blew out mine. We were now about sixteen hundred feet\\nfrom daylight, with but one feeble light, which the falling water might\\nin a moment have extinguished. Add to this, that the person who held\\nthis light was at some distance viewing some falling water.\\n\\n    \"Conticuere omnes, intentique ora tenebant.\"\\n\\nWe, however, once more lighted our torches; but, had we not been able to\\ndo so, we might, at our leisure, have contemplated the gloominess of the\\ncavern, for no one would have come to us till the next day. In one room\\nwe found an excellent spring of water, which boiled up as if to slake\\nour thirst, then sunk into the mountain, and was seen no more. In\\nanother room was a noble pillar, called the TOWER OF BABEL. It is\\ncomposed entirely of stalactites of lime, or, as the appearance would\\nseem to suggest, of petrified water. It is about thirty feet in\\ndiameter, and a little more than ninety feet in circumference, and not\\nfar from thirty feet high. There are probably millions of stalactites in\\nthis one pillar.\\n\\nThus we wandered on in this world within a world, till we had visited\\ntwelve very beautiful rooms, and as many creeping places, and had now\\narrived at the end,--a distance from our entrance of between twenty-four\\nand twenty-five hundred feet; or, what is about its equal, half a mile\\nfrom the mouth. We here found ourselves exceedingly fatigued; but our\\ntorches forbade us to tarry, and we once more turned our lingering steps\\ntowards the common world. When we arrived again at Washington Hall, one\\nof our company three times discharged a pistol, whose report was truly\\ndeafening; and as the sound reverberated and echoed through one room\\nafter another till it died away in distance, it seemed like the moanings\\nof spirits. We continued our wandering steps till we arrived once more\\nat daylight, having been nearly three hours in the cavern. We were much\\nfatigued, covered with dirt, and in a cold sweat; yet we regretted to\\nleave it. From the farther end of the cave I gathered some handsome\\nstalactites, which I put into my portmanteau, and preserved as mementos\\nof that day\\'s visit.\\n\\nTo compare the Natural Bridge and Cave together as objects of curiosity,\\nis exceedingly difficult. Many consider the _Bridge_ as the greatest\\ncuriosity; but I think the _Cavern_ is. In looking at the Bridge we are\\nfilled with awe; at the Cavern with delight. At the Bridge we have\\nseveral views that are awful; at the Cave hundreds that are pleasing. At\\nthe Bridge you stand and gaze in astonishment; at the Cave awfulness is\\nlost in beauty, and grandeur is dressed in a thousand captivating forms.\\nAt the Bridge you feel yourself to be _looking_ into another world; at\\nthe Cave you find yourself already _arrived_ there. The one presents to\\nus a God who is very \"wonderful in working;\" the other exhibits the same\\npower, but with it is blended loveliness in a thousand forms. In each is\\nvastness. Greatness constitutes the whole of one; but the other is\\nelegant, as well as great. Of each we must retain lively impressions;\\nand to witness such displays of the Creator\\'s power, must ever be\\nconsidered as happy events in our lives. While viewing scenes like\\nthese, we must ever exalt the energy of creating power, and sink under\\nthe thoughts of our own insignificance. The works of nature are\\nadmirably well calculated to impress us deeply with a sense of the\\nmighty power of God, who can separate two mountains by a channel of\\nawfulness, or fill the bowels of a huge mountain with beauties, that\\nman, with all the aid of art, can only admire, but never imitate.\\n\\n\\n~The Christian Slave.~\\n\\n\\nWe venture to extract another of Mr. Todd\\'s Simple Sketches, so\\ncharmingly are they described.\\n\\nThe sun had set, and I began to be anxious to find a place of rest for\\nthe night, after a day\\'s ride under a sultry sun. I was travelling in\\nSouth Carolina, and was now not far from a branch of the Cooper river.\\nThe country here is a dead level, and its surface is covered with thinly\\nscattered pines. I came to an old church--it stood solitary; not a house\\nin sight: it was built of wood, and much decayed. The breezes of evening\\nwere gently sighing through the tops of the long-leaved pines which\\nstood near; while still nearer stood several large live-oaks, which\\nspread out their aged arms, as if to shelter what was sacred. On their\\nlimbs hung, in graceful folds, the long grey moss, as if a mantle of\\nmourning, waving over a few decayed tombs at the east side of the\\nchurch. These oaks give the place a very sombre and awful appearance;\\nthey seemed to stand as silent mourners over the dust of generations\\nthat had sunk into the grave, and waiting in solemn expectation that\\nothers would soon come and lie beneath their shade in the long sleep of\\ndeath. The time of day, and the sacredness of the spot, were so\\ncongenial to my own feelings, that I involuntarily stopped my horse.\\n\\nMy curiosity was now excited by seeing a very aged negro standing and\\ngazing steadily on a small decaying tomb. He seemed to be intent, and\\ndid not observe me; his woolly locks were whitened by age; his\\ncountenance was manly, though it bore the marks of sorrow; he was\\nleaning on his smooth-worn staff, the companion of many years. I was\\nsomewhat surprised on seeing this aged African silently meditating among\\nthe vestiges of the dead, and accordingly roused him from his reverie.\\nHe started at first, but his confidence was soon gained. There is a\\nspring in the bosom of every Christian, which throws a joy into his\\nheart whenever he meets a fellow-christian during his pilgrimage here\\nbelow. I found the old negro to be an eminent Christian, and we were\\nsoon acquainted. I inquired what motive induced him, at that hour of the\\nday, to visit these tombs. Instead of answering my question directly he\\ngave me the following account of himself, in broken language:--\\n\\nAbout sixty years ago, this negro was living under his paternal roof in\\nAfrica. He was the son of a chief of a small tribe, the pride of his\\nparents, and the delight of his countrymen; none could more dexterously\\nthrow the dart; none more skilfully guide the fragile canoe over the\\nbosom of the deep. He was not far from twenty years of age, when, on a\\nfair summer\\'s morn, he went in his little canoe to spend the day in\\nfishing. About noon he paddled his bark to the shore, and, under the\\nshade of a beautiful palmetto-tree, he reclined till the heat of\\nnoon-day should be passed. He was young, healthy, and active; he knew\\nnone whom he dreaded; he was a stranger to fear, and he dreamed only of\\nsecurity, as he slept under the shade of his own native tree. Thus,\\nwhile our sky is encircled with the bow of happiness, we forget that it\\nmay soon be overspread with darkness. When this African awoke, he found\\nhis hands bound behind him, his feet fettered, and himself surrounded by\\nseveral white men, who were conveying him on board of their ship;--it\\nwas a slave-ship. The vessel had her cargo completed, and was ready to\\nsail. As they were unfurling the sails, the son of Africa, with many\\nothers of his countrymen, for the last time cast his eyes upon his\\nnative shores. Futurity was dark,--was uncertain,--was despair. His\\nbosom thrilled with anguish, as he threw his last farewell look over the\\nplains of his native country. There was his native spot where his had\\nlived, there the home of his infancy and childhood, there the place\\nwhere he had inhaled his earliest breath--and to tear him from these,\\nseemed like breaking the very strings of his heart.\\n\\n[Illustration]\\n\\nAfter a melancholy passage, during which the African was forced to wear\\ndouble the irons to receive double the number of lashes, that any of\\nhis companions received, on account of his refractory spirit, he was at\\nlength landed and sold to a planter in the place where he now resides.\\nThere is nothing new, nothing novel or interesting, that ever takes\\nplace in the life of a slave--describe one day, and you write the\\nhistory of a slave. The sun, indeed, continues to roll over him; but it\\nsheds upon him no new joys, no new prospects, no new hopes. So it was\\nwith the subject of this narrative. His master was naturally a man of a\\nvery humane disposition; but his overseers were often little else than\\ncompounds of vice and cruelty. In this situation the negro lost all his\\nnatural independence and bravery. He often attempted to run away, but\\nwas as often taken and punished. Having no cultivated mind to which he\\ncould look for consolation--knowing of no change that was ever to take\\nplace in his situation,--he settled down in gloominess. Often would he\\nsend a silent sigh for the home of his youth; but his path shewed but\\nfew marks of happiness, and few rays of hope for futurity were drawn by\\nfancy\\'s hand. Sunk in despondency and vice, he was little above the\\nbrutes around him.\\n\\nIn this situation he was accidentally met by the good minister of the\\nparish, who addressed him as a rational and immortal being, and pressed\\nupon him the first principles of religion. This was a new subject; for\\nhe had never before looked beyond the narrow bounds before him, nor had\\nhe ever dreamed of a world beyond this. After a long conversation on\\nthis subject, the minister made him promise that he would now \"_attend\\nto his soul_.\"\\n\\nThe clergyman could not, for many months after this, obtain an interview\\nwith his new pupil, who most carefully shunned him. But though afraid to\\nmeet his minister, he still felt an arrow of conviction in his heart.\\nWherever he went, whether asleep or awake, to use his own words, his\\npromise, \"me take care of soul, stick close to him,\" He now began in\\nearnest to seek \"the one thing needful\". By the kindness of his master\\nhe learned to read his Testament, and to inquire more about Jesus. He\\nwas now very desirous to see his minister; and before a convenient\\nopportunity occurred, he was in such distress of mind as actually to\\nattempt two several times to kill himself. His minister visited him,\\nconversed and prayed with him.\\n\\n\"_Oh_,\" he would say, \"God never think such poor negro, he no love so\\nmuch sinner, he no before ever see such bad heart!\" The mercy of Christ,\\nand his compassion towards sinners, were explained to him, and his soul\\nwas filled with \"joy and peace in believing,\" He now rejoiced and\\nthanked God that he was brought from his native shores, as he had a\\nfairer country, and purer enjoyments presented to his view, after the\\nscenes of this transitory world shall be over. He now became more\\nindustrious and more faithful. By uncommon industry he raised money\\nsufficient to purchase his own freedom. He next bought the liberty of\\nhis wife, and had nearly completed paying for that of his only\\ndaughter, when she was liberated by the hand of death. His wife soon\\nfollowed her, and left this world a perfect void to the husband and\\nfather. His every tie that bound him to earth was now broken. Having no\\nearthly enjoyment, he now placed his affections on heaven above. It is\\neasy for the Christian to make rapid progress in holiness when not\\nfettered by worldly cares.\\n\\nIt was now dark, and I must leave my new acquaintance. I left him with\\nhis face wet with tears, still standing beside the tomb--the tomb of his\\nold minister! This good man had been his faithful and constant guide,\\nand though his ashes had been slumbering for years, the negro had not\\nyet forgotten how to weep at their urn. I could not but admire the\\nwonderful dealings of God, in order to bring men to himself. Happy\\nminister! who hast been the instrument of covering a multitude of sins!\\nHappy negro! his is not this world. Though no sculptured marble may tell\\nthe traveller where he may shortly lie--though he never trod the thorny\\nroad of ambition or power--though the trumpet of fame never blew the\\necho of his name through a gaping world--still those eyes, which will\\nsoon be closed in death, may hereafter awake, to behold, undaunted, a\\nworld in flames, and these heavens fleeing away.\\n\\n\\n~Violent Earthquake in Calabria.~\\n\\n\\nIn nature there is nothing which can inspire us with so much awe as\\nthose violent outbreakings which occasionally convulse the earth,\\ncreating fearful devastation, overthrowing cities, and destroying much\\nlife and property. The following is a description of one which occurred\\nin Calabria and Sicily in the year 1783; and which, from its violence,\\noverthrew many cities, creating an universal consternation in the minds\\nof the inhabitants of the two kingdoms.\\n\\nOn Wednesday, the fifth of February, about one in the afternoon, the\\nearth was convulsed in that part of Calabria which is bounded by the\\nrivers of Gallico and Metramo, by the mountains Jeio, Sagra, and\\nCaulone, and the coast between these rivers and the Tuscan Sea. This\\ndistrict is called the _Piana_, because the country extends itself from\\nthe roots of the Appenines, in a plain, for twenty Italian miles in\\nlength by eighteen in breadth. The earthquake lasted about a hundred\\nseconds. It was felt as far as Otranto, Palermo, Lipari, and the other\\nAEolian isles; a little also in Apuglia, and the _Terra di Cavoro_; in\\nNaples and the Abruzzi not at all. There stood in this plain a hundred\\nand nine cities and villages, the habitations of a hundred and sixty-six\\nthousand human beings; and in less than two minutes all these edifices\\nwere destroyed, with nearly thirty-two thousand individuals of every\\nage, sex, and station,--the rich equally with the poor; for there\\nexisted no power of escaping from so sudden a destruction. The soil of\\nthe _Piana_ was granite at the base of the Apennines, but in the plain\\nthe _debris_ of every sort of earth, brought down from the mountains by\\nthe rains, constituted a mass of unequal solidity, resistance, weight,\\nand form. On this account, whatever might have been the cause of the\\nearthquake, whether volcanic or electrical, the movement assumed every\\npossible direction--vertical, horizontal, oscillatory, vorticose, and\\npulsatory; producing every variety of destruction. In one place, a city\\nor house was thrown down, in another it was immersed. Here, trees were\\nburied to their topmost branches, beside others stripped and overturned.\\nSome mountains opened in the middle, and dispersed their mass to the\\nright and left, their summits disappearing, or being lost in the\\nnewly-formed valleys; others slipped from their foundations along with\\nall their edifices, which sometimes were overthrown, but more rarely\\nremained uninjured, and the inhabitants not even disturbed in their\\nsleep. The earth opened in many places, forming frightful abysses;\\nwhile, at a small distance, it rose into hills. The waters, too, changed\\ntheir course; rivers uniting to form lakes, or spreading into marshes;\\ndisappearing, to rise again in new streams, through other banks, or\\nrunning at large, to lay bare and desolate the most fertile fields.\\nNothing retained its ancient form, cities, roads, and boundaries\\nvanished,--so that the inhabitants were bewildered as if in an unknown\\nland. The works of art and of nature, the elaborations of centuries,\\ntogether with many a stream and rock, coeval perhaps with the world\\nitself, were in a single instant destroyed and overthrown....\\nWhirlwinds, tempests, the flames of volcanoes, and of burning edifices,\\nrain, wind, and thunder, accompanied the movements of the earth: all the\\nforces of nature were in activity, and it seemed as if all its laws were\\nsuspended, and the last hour of created things at hand. In the meantime,\\nthe sea between Scylla, Charybdis, and the coasts of Reggio and Messina,\\nwas raised many fathoms above its usual level; overflowing its banks,\\nand then, in its return to its channel, carrying away men and beasts. By\\nthese means, two thousand persons lost their lives on Scylla alone, who\\nwere either congregated on the sands, or had escaped in boats, from the\\ndangers of the dry land. Etna and Stromboli were in more than usual\\nactivity: but this hardly excited attention, amidst greater and graver\\ndisasters. A worse fire than that of the volcanoes resulted from the\\nincidents of the earthquake; for the beams of the falling houses being\\nignited by the burning heaths, the flames, fanned by the winds, were so\\nvast and fierce, that they seemed to issue from the bosom of the earth.\\nThe heavens, alternately cloudy or serene, had given no previous sign of\\nthe approaching calamity; but a new source of suffering followed it, in\\na thick fog, which obscured the light of the day, and added to the\\ndarkness of night. Irritating to the eyes, injurious to the respiration,\\nfetid, and immoveable, it hung over the two Calabrias for more than\\ntwenty days,--an occasion of melancholy, disease, and annoyance, both to\\nman and to animals....\\n\\nAt the first shock, no token, in heaven or on earth, had excited\\nattention; but at the sudden movement, and at the aspect of destruction,\\nan overwhelming terror seized on the general mind, insomuch, that the\\ninstinct of self-preservation was suspended, and men remained\\nthunderstricken and immoveable. On the return of reason, the first\\nsentiment was a sort of joy at the partial escape; but they soon gave\\nplace to grief for the loss of family, and the overthrow of the domestic\\nhabitation. Amidst so many aspects of death, and the apprehension even\\nof approaching judgment, the suspicion that friends were yet alive under\\nthe ruins was the most excruciating affliction, since the impossibility\\nof assisting them rendered their death--(miserable and terrible\\nconsolation)--a matter of preference and of hope. Fathers and husbands\\nwere seen wandering amidst the ruins that covered the objects of their\\naffections, and, wanting the power to move the superincumbent masses,\\nwere calling in vain for the assistance of the bystanders; or haply they\\nlay groaning, night and day, in their despair, upon the ruinous\\nfragments. But the most horrid fate--(a fate too dreadful to conceive or\\nto relate)--was theirs, who, buried alive beneath the fallen edifices,\\nawaited, with an anxious and doubtful hope, the chances of\\nrelief--accusing, at first, the slowness, and then the avarice, of\\ntheir dearest relations and friends; and when they sank under hunger and\\ngrief--with their senses and memory beginning to fail them--their last\\nsentiment was that of indignation against their kindred, and hatred of\\nhumanity. Many were disinterred alive by their friends, and some by the\\nearthquake itself; which, overthrowing the very ruins it had made,\\nrestored them to light. It was ultimately found, that about a fourth of\\nthose whose bodies were recovered, might have been saved, had timely\\nassistance been at hand. The men were chiefly found in attitudes\\nindicating an effort at escape, the women with their hands covering\\ntheir face, or desperately plunged in their hair. Mothers were\\ndiscovered dead who had striven to protect their infants with their own\\nbodies, or lay with their arms stretched towards these objects of\\naffection, when separated from them by intervening masses of ruin.\\n\\n\\n~Escape from a Ship on Fire.~\\n\\n\\nFrom the \"Missionary Annual\" for 1833.\\n\\nMany of the party, having retired to their hammocks soon after the\\ncommencement of the storm, were only partially clothed, when they made\\ntheir escape; but the seamen on the watch, in consequence of the heavy\\nrain, having cased themselves in double or treble dresses, supplied\\ntheir supernumerary articles of clothing to those who had none. We\\nhappily succeeded in bringing away two compasses from the binnacle, and\\na few candles from the cuddy-table, one of them lighted; one bottle of\\nwine, and another of porter, were handed to us, with the tablecloth and\\na knife, which proved very useful; but the fire raged so fiercely in the\\nbody of the vessel, that neither bread nor water could be obtained. The\\nrain still poured in torrents; the lightning, followed by loud bursting\\nof thunder, continued to stream from one side of the heavens to the\\nother,--one moment dazzling us by its glare, and the next moment\\nleaving us in darkness, relieved only by the red flames of the\\nconflagration from which we were endeavouring to escape. Our first\\nobject was to proceed to a distance from the vessel, lest she should\\nexplode and overwhelm us; but, to our inexpressible distress, we\\ndiscovered that the yawl had no rudder, and that for the two boats we\\nhad only three oars. All exertions to obtain more from the ship proved\\nunsuccessful. The gig had a rudder; from this they threw out a rope to\\ntake us in tow; and, by means of a few paddles, made by tearing up the\\nlining of the boat, we assisted in moving ourselves slowly through the\\nwater, providentially the sea was comparatively smooth, or our\\noverloaded boats would have swamped, and we should only have escaped the\\nflames to have perished in the deep. The wind was light, but variable,\\nand, acting on the sails, which, being drenched with the rain, did not\\nsoon take fire, drove the burning mass, in terrific grandeur, over the\\nsurface of the ocean, the darkness of which was only illuminated by the\\nquick glancing of the lightning or the glare of the conflagration. Our\\nsituation was for some time extremely perilous. The vessel neared us\\nmore than once, and apparently threatened to involve us in one common\\ndestruction. The cargo, consisting of dry provisions, spirits, cotton\\ngoods, and other articles equally combustible, burned with great\\nviolence, while the fury of the destroying element, the amazing height\\nof the flames, the continued storm, amidst the thick darkness of the\\nnight, rendered the scene appalling and terrible. About ten o\\'clock, the\\nmasts, after swaying from side to side, fell with a dreadful crash into\\nthe sea, and the hull of the vessel continued to burn amidst the\\nshattered fragments of the wreck, till the sides were consumed to the\\nwater\\'s edge. The spectacle was truly magnificent, could it even have\\nbeen contemplated by us without a recollection of our own circumstances.\\nThe torments endured by the dogs, sheep, and other animals on board, at\\nany other time would have excited our deepest commiseration; but at\\npresent, the object before us, our stately ship, that had for the last\\nfour months been our social home, the scene of our enjoyments, our\\nlabours, and our rest, now a prey to the destroying element; the\\nsuddenness with which we had been hurried from circumstances of comfort\\nand comparative security, to those of destitution and peril, and with\\nwhich the most exhilarating hopes had been exchanged for disappointment\\nas unexpected as it was afflictive; the sudden death of the two seamen,\\nour own narrow escape, and lonely situation on the face of the deep, and\\nthe great probability even yet, although we had succeeded in removing to\\na greater distance from the vessel, that we ourselves should never again\\nsee the light of day, or set foot on solid ground, absorbed every\\nfeeling. For some time the silence was scarcely broken, and the thoughts\\nof many, I doubt not, were engaged on subjects most suitable to immortal\\nbeings on the brink of eternity. The number of persons in the two boats\\nwas forty-eight; and all, with the exception of the two ladies, who bore\\nthis severe visitation with uncommon fortitude, worked by turns at the\\noars and paddles. After some time, to our great relief, the rain ceased;\\nthe labour of baling water from the boats was then considerably\\ndiminished. We were frequently hailed during the night by our companions\\nin the small boat, and returned the call, while the brave and\\ngenerous-hearted seamen occasionally enlivened the solitude of the deep\\nby a simultaneous \"Hurra!\" to cheer each others\\' labours, and to animate\\ntheir spirits. The Tanjore rose in the water as its contents were\\ngradually consumed. We saw it burning the whole night, and at day-break\\ncould distinguish a column of smoke, which, however, soon ceased, and\\nevery sign of our favourite vessel disappeared. When the sun rose, our\\nanxiety and uncertainty as to our situation were greatly relieved by\\ndiscovering land ahead; the sight of it filled us with grateful joy,\\nand nerved us with fresh vigour for the exertion required in managing\\nthe boats. With the advance of the day we discerned more clearly the\\nnature of the country. It was wild and covered with jungle, without any\\nappearance of population: could we have got ashore, therefore, many of\\nus might have perished before assistance could have been procured; but\\nthe breakers, dashing upon the rocks, convinced us that landing was\\nimpracticable. In the course of the morning we discovered a native\\nvessel, or dhoney, lying at anchor, at some distance: the wind at that\\ntime beginning to favour us, every means was devised to render it\\navailable. In the yawl we extended the tablecloth as a sail, and in the\\nother boat a blanket served the same purpose. This additional help was\\nthe more seasonable, as the rays of the sun had become almost\\nintolerable to our partially covered bodies. Some of the seamen\\nattempted to quench their thirst by salt water: but the passengers\\nencouraged each other to abstain. About noon we reached the dhoney. The\\nnatives on board were astonished and alarmed at our appearance, and\\nexpressed some unwillingness to receive us; but our circumstances would\\nadmit of no denial; and we scarcely waited till our Singalese\\nfellow-passenger could interpret to them our situation and our wants,\\nbefore we ascended the sides of their vessel, assuring them that every\\nexpense and loss sustained on our account should be amply repaid.\\n\\n\\n~Anecdotes of the Albatross, &c.~\\n\\n\\nThe author of the following extracts is Mr. Augustus Earle, whose life\\nhas been one of wandering and peril, traversing every quarter of the\\nglobe. The account of his residence for nine months among the New\\nZealanders is very interesting; but a description of their cannibal\\nhabits will not suit the taste of many of our young readers. We shall\\ntherefore accompany him to the Island of Tristan d\\'Acunha, upon which,\\nby accident, he was left, where he amused himself hunting goats, sea\\nelephants, albatrosses, and penguins; while, like another Crusoe, he\\noccasionally watched for the ship that should release him from his\\nisland prison. His work is intitled \"Nine Months\\' Residence in New\\nZealand,\" &c.\\n\\n\\nTHE ALBATROSS.\\n\\n\\nBeing a fine morning, I determined to ascend the mountain. As several\\nparties had before gone up, they had formed a kind of path: at least we\\nendeavoured to trace the same way; but it requires a great deal of nerve\\nto attempt it. The sides of the mountain are nearly perpendicular; but,\\nafter ascending about two hundred feet, it is there entirely covered\\nwith wood, which renders the footing much more safe; but in order to\\nget to the wood, the road is so dangerous, that it made me almost\\ntremble to think of it,--slippery grey rocks, and many of them\\nunfortunately loose, so that when we took hold, they separated from the\\nmass, and fell with a horrid rumbling noise. Here and there were a few\\npatches of grass, the only thing we could depend upon to assist us in\\nclimbing, which must be done with extreme caution, for the least slip or\\nfalse step would dash one to atoms on the rocks below. By keeping our\\neyes constantly looking upwards, and continuing to haul ourselves up, by\\ncatching firm hold on this grass, after an hour\\'s painful toil we gained\\nthe summit, where we found ourselves on an extended plain, of several\\nmiles expanse, which terminates in the peak, composed of dark grey lava,\\nbare and frightful to behold. We proceeded towards it, the plain\\ngradually rising, but the walking was most fatiguing, over strong rank\\ngrass and fern several feet high, with holes concealed under the roots\\nin such a way, that no possible caution could prevent our occasionally\\nfalling down into one or other of them, and entirely disappearing, which\\ncaused a boisterous laugh amongst the rest; but it frequently happened,\\nwhile one was making merry at the expense of another, down sunk the\\nlaugher himself. A death-like stillness prevailed in these high regions,\\nand, to my ear, our voices had a strange, unnatural echo, and I fancied\\nour forms appeared gigantic, whilst the air was piercing cold. The\\nprospect was altogether very sublime, and filled the mind with awe! On\\nthe one side, the boundless horizon, heaped up with clouds of silvery\\nbrightness, contrasted with some of darker hue, enveloping us in their\\nvapour, and, passing rapidly away, gave us only casual glances of the\\nlandscape; and, on the other hand, the sterile and cindery peak, with\\nits venerable head, partly capped with clouds, partly revealing great\\npatches of red cinders, or lava, intermingled with the black rock,\\nproduced a most extraordinary and dismal effect. It seemed as though it\\nwere still actually burning, to heighten the sublimity of the scene. The\\nhuge albatross appeared here to dread no interloper or enemy; for their\\nyoung were on the ground completely uncovered, and the old ones were\\nstalking around them. This bird is the largest of the aquatic tribe; and\\nits plumage is of a most delicate white, excepting the back and the tops\\nof its wings, which are grey: they lay but one egg, on the ground, where\\nthey form a kind of nest, by scraping the earth round it. After the\\nyoung one is hatched, it has to remain a year before it can fly; it is\\nentirely white, and covered with a woolly down, which is very beautiful.\\nAs we approached them, they clapped their beaks, with a very quick\\nmotion, which made a great noise. This, and throwing up the contents of\\nthe stomach, are the only means of offence and defence they seem to\\npossess. The old ones, which are valuable on account of their feathers,\\nmy companions made dreadful havoc amongst, knocking on the head all they\\ncould come up with. These birds are very helpless on the land, the\\ngreat length of their wings precluding them from rising up into the air,\\nunless they can get to a steep declivity. On the level ground they were\\ncompletely at our mercy, but very little was shewn them; and in a very\\nshort space of time the plain was strewn with their bodies, one blow on\\nthe head generally killing them instantly. Five months after, many of\\nthe young birds were still sitting on their nests, and had never moved\\naway from them; they remain there for a year before they can fly, and\\nduring that long period are fed by the mother. They had greatly\\nincreased in size and beauty since my first visit to them. The semblance\\nof the young bird, as it sits on the nest, is stately and beautiful. The\\nwhite down, which is its first covering, giving place gradually to its\\nnatural grey plumage, leaves half the creature covered with down; the\\nother half is a fine compact coat of feathers, composed of white and\\ngrey; while the head is of a dazzling, silvery white. Their size is\\nprodigious, one of them proving a tolerable load. Upon skinning them,\\non our return, we found they were covered with a fine white fat, which I\\nwas told was excellent for frying, and other culinary purposes; and the\\nflesh was quite as delicate, and could scarcely be distinguished in\\nflavour from lamb. Besides our albatross, the dogs caught some small\\nbirds, about the size of our partridge, but their gait was something\\nlike that of the penguin. The male is of a glossy black, with a bright\\nred hard crest on the top of the head. The hen is brown. They stand\\nerect, and have long yellow legs, with which they run very fast; their\\nwings are small and useless for flying, but they are armed with sharp\\nspurs for defence, and also, I imagine, for assisting them in climbing,\\nas they are found generally among the rocks. The name they give this\\nbird here is simply \"cock,\" its only note being a noise very much\\nresembling the repetition of that word. Its flesh is plump, fat, and\\nexcellent eating.\\n\\n\\nVISIT TO A PENGUIN ROOKERY.\\n\\n\\nThe spot of ground occupied by our settlers is bounded on each side by\\nhigh _bluffs_, which extend far into the sea, leaving a space in front,\\nwhere all their hogs run nearly wild, as they are prevented going beyond\\nthose limits by those natural barriers; and the creatures who, at stated\\nperiods, come up from the sea, remain in undisturbed possession of the\\nbeaches beyond our immediate vicinity. The weather being favourable, we\\nlaunched our boat early in the morning, for the purpose of procuring a\\nsupply of eggs for the consumption of the family. We heard the\\nchattering of the penguins from the rookery long before we landed, which\\nwas noisy in the extreme, and groups of them were scattered all over the\\nbeach; but the high thick grass on the declivity of the hill seemed\\ntheir grand establishment, and they were hidden by it from our view. As\\nwe could not find any place where we could possibly land our boat in\\nsafety, I and two more swam on shore with bags tied round our necks to\\nhold the eggs in, and the boat with one of the men lay off, out of the\\nsurf. I should think the ground occupied by these _birds_ (if I may be\\nallowed so to call them) was at least a mile in circumference, covered\\nin every part with grasses and reeds, which grew considerably higher\\nthan my head; and on every gentle ascent, beginning from the beach, on\\nall the large grey rocks, which occasionally appeared above this grass,\\nsat perched groups of these strange and uncouth-looking creatures; but\\nthe noise which rose up from beneath baffles all description! As our\\nbusiness lay with the noisy part of this community, we quietly crept\\nunder the grass, and commenced our plundering search, though there\\nneeded none, so profuse was the quantity. The scene altogether well\\nmerits a better description than I can give--thousands, and hundreds of\\nthousands, of these little two-legged erect monsters hopping around us,\\nwith voices very much resembling in tone that of the human; all opened\\ntheir throats together: so thickly clustered in groups that it was\\nalmost impossible to place the foot without dispatching one of them. The\\nshape of the animal, their curious motions, and their most extraordinary\\nvoices, made me fancy myself in a kingdom of pigmies. The regularity of\\ntheir manners, their all sitting in exact rows, resembling more the\\norder of a camp than a rookery of noisy birds, delighted me. These\\ncreatures did not move away on our approach, but only increased their\\nnoise, so we were obliged to displace them forcibly from their nests;\\nand this ejectment was not produced without a considerable struggle on\\ntheir parts; and, being armed with a formidable beak, it soon became a\\nscene of desperate warfare. We had to take particular care to protect\\nour hands and legs from their attacks: and for this purpose each one had\\nprovided himself with a short stout club. The noise they continued to\\nmake during our ramble through their territories the sailors said was,\\n\"Cover \\'em up, cover \\'em up.\" And, however incredible it may appear, it\\nis nevertheless true, that I heard those words so distinctly repeated,\\nand by such various tones of voices, that several times I started, and\\nexpected to see one of the men at my elbow. Even these little creatures,\\nas well as the monstrous sea elephant, appear to keep up a continued\\nwarfare with each other. As the penguins sit in rows, forming regular\\nlanes leading down to the beach, whenever one of them feels an\\ninclination to refresh herself by a plunge into the sea, she has to run\\nthe gauntlet through the whole _street_, every one pecking at her as she\\npasses without mercy; and though all are occupied in the same\\nemployment, not the smallest degree of friendship seems to exist; and\\nwhenever we turned one off her nest, she was sure to be thrown amongst\\nfoes; and, besides the loss of her eggs, was invariably doomed to\\nreceive a severe beating and pecking from her companions. Each one lays\\nthree eggs, and after a time, when the young are strong enough to\\nundertake the journey, they go to sea, and are not again seen till the\\nensuing spring. Their city is deserted of its numerous inhabitants, and\\nquietness reigns till nature prompts their return the following year,\\nwhen the same noisy scene is repeated, as the same flock of birds\\nreturns to the spot where they were hatched. After raising a tremendous\\ntumult in this numerous colony, and sustaining continued combat, we came\\noff victorious, making capture of about a thousand eggs, resembling in\\nsize, colour, and transparency of shell, those of a duck; and the taking\\npossession of this immense quantity did not occupy more than one hour,\\nwhich may serve to prove the incalculable number of birds collected\\ntogether. We did not allow them sufficient time, after landing, to lay\\nall their eggs; for, had the season been further advanced, and we had\\nfound three eggs in each nest, the whole of them might probably have\\nproved addled, the young partly formed, and the eggs of no use to us;\\nbut the whole of those we took turned out good, and had a particularly\\nfine and delicate flavour. It was a work of considerable difficulty to\\nget our booty safe into the boat--so frail a cargo--with so tremendous a\\nsurf running against us. However, we finally succeeded, though not\\nwithout smashing a considerable number of the eggs.\\n\\n\\nTHE SEA ELEPHANT.\\n\\n\\nI saw, for the first time, what the settlers call a _pod_ of sea\\nelephants. At this particular season these animals lay strewed about the\\nbeach, and, unless you disturb them, the sight of a man will not\\nfrighten them away. I was determined to get a good portrait of some of\\nthem, and accordingly took my sketch-book and pencil, and seated myself\\nvery near to one of them, and began my operations, feeling sure I had\\nnow got a most patient sitter, for they will lie for weeks together\\nwithout stirring; but I had to keep throwing small pebbles at him, in\\norder to make him open his eyes, and prevent his going to sleep. The\\nflies appear to torment these unwieldy monsters most cruelly, their\\neyes and nostrils being stuffed full of them. I got a good sketch of the\\ngroup. They appeared to stare at me occasionally with some little\\nastonishment, stretching up their immense heads and looking around; but\\nfinding all still (I suppose they considered me a mere rock), they\\ncomposed themselves to sleep again. They are the most shapeless\\ncreatures about the body. I could not help comparing them to an\\nover-grown maggot, and their motion is similar to that insect. The face\\nbears some rude resemblance to the human countenance; the eye is large,\\nblack, and expressive; excepting two very small flippers or paws at the\\nshoulder, the whole body tapers down to a fish\\'s tail; they are of a\\ndelicate mouse colour, the fur is very fine, but too oily for any other\\npurpose than to make mocassins for the islanders. The bull is of an\\nenormous size, and would weigh as heavily as his namesake of the land;\\nand in that one thing consists their only resemblance, for no two\\nanimals can possibly be more unlike each other. It is a very curious\\nphenomenon, how they can possibly exist on shore; for, from the first\\nof their landing, they never go out to sea, and they lie on a stormy\\nbeach for months together without tasting any food, except consuming\\ntheir own fat, for they gradually waste away; and as this fat or blubber\\nis the great object of value, for which they are attacked and\\nslaughtered, the settlers contrive to commence operations against them\\nupon their first arrival, for it is well ascertained that they take no\\nsustenance whatever on shore. I examined the contents of the stomach of\\none they had just killed, but could not make out the nature of what it\\ncontained. The matter was of a remarkably bright green colour. They have\\nmany enemies, even in the water; one called the killer, a species of\\ngrampus, which makes terrible havoc amongst them, and will attack and\\ntake away the carcass of one from alongside a boat. But man is their\\ngreatest enemy, and causes the most destruction to their race: he\\npursues them to all quarters of the globe.\\n\\n\\nVISIT FROM THE NATIVES AT TERRA DEL FUEGO.\\n\\n\\nDuring our stay, we had, at various times, visits from the natives. They\\nwere all at first very shy, but after they found our friendly\\ndisposition towards them, they became more sociable and confiding.\\n\\nOn the 11th of March three bark canoes arrived, containing four men,\\nfour women, and a girl about sixteen years old, four little boys and\\nfour infants, one of the latter about a week old, and quite naked. They\\nhad rude weapons, viz. slings to throw stones, three rude spears,\\npointed at the end with bone, and notched on one side with barbed teeth.\\nWith this they catch their fish, which are in great quantities among the\\nkelp. Two of the natives were induced to come on board, after they had\\nbeen alongside for upwards of an hour, and received many presents, for\\nwhich they gave their spears, a dog, and some of their rude native\\ntrinkets. They did not shew or express surprise at anything on board,\\nexcept when seeing one of the carpenters engaged in boring a hole with a\\nscrew-auger through a plank, which would have been a long task for them.\\nThey were very talkative, smiling when spoken to, and often bursting\\ninto loud laughter, but instantly settling into their natural serious\\nand sober cast.\\n\\nThey were found to be great mimics, both in gesture and sound, and would\\nrepeat any word of our language, with great correctness of\\npronunciation. Their imitations of sounds were truly astonishing.\\n\\nTheir mimicry became at length annoying, and precluded our getting at\\nany of their words or ideas. It not only extended to words or sounds,\\nbut actions also, and was at times truly ridiculous. The usual manner of\\ninterrogating for names was quite unsuccessful. On pointing to the nose,\\nfor instance, they did the same. Anything they saw done they would\\nmimic, and with an extraordinary degree of accuracy. On these canoes\\napproaching the ship, the principal one of the family, or chief,\\nstanding up in his canoe, made a harangue. Although they have been\\nheard to shout quite loud, yet they cannot endure a noise; and when the\\ndrum beat, or a gun was fired, they invariably stopped their ears. They\\nalways speak to each other in a whisper.\\n\\nThe women were never suffered to come on board. They appeared modest in\\nthe presence of strangers. They never move from a sitting posture, or\\nrather a squat, with their knees close together, reaching to their chin,\\ntheir feet in contact, and touching the lower part of the body. They are\\nextremely ugly. Their hands and feet were small and well shaped; and,\\nfrom appearance, they are not accustomed to do any hard work. They\\nappear very fond and seem careful of their young children, though on\\nseveral occasions they offered them for sale for a trifle. They have\\ntheir faces smutted all over, and it was thought, from the hideous\\nappearance of the females, produced in part by their being painted and\\nsmutted, that they had been disfigured by the men previous to coming\\nalongside. It was remarked, that when one of them saw herself in a\\nlooking-glass, she burst into tears, as Jack thought, from pure\\nmortification.\\n\\nBefore they left the ship, the greater part of them were dressed in old\\nclothes, that had been given to them by the officers and men, who all\\nshewed themselves extremely anxious \"to make them comfortable,\" This\\ngave rise to much merriment, as Jack was not disposed to allow any\\ndifficulties to interfere in the fitting. If the jackets proved too\\ntight across the shoulders, which they invariably were, a slit down the\\nback effectually remedied the defect. If a pair of trousers was found\\ntoo small around the waist, the knife was again resorted to; and in some\\ncases a fit was made by severing the legs. The most difficult fit, and\\nthe one which produced the most merriment, was that of a woman, to whom\\nan old coat was given. This, she concluded belonged to her nether limbs,\\nand no signs, hints, or shouts, could correct her mistake. Her feet were\\nthrust through the sleeves, and, after hard squeezing, she succeeded in\\ndrawing them on. With the skirts brought up in front, she took her seat\\nin the canoe with great satisfaction, amid a roar of laughter from all\\nwho saw her.\\n\\n\\nCHILIAN MODE OF CAPTURING WILD HORSES.\\n\\n\\nA party of four or five horsemen, with about twenty dogs, were seen\\nformed in an extended crescent, driving the wild horses towards the\\nriver with shouts. All were armed with the lasso, which was swinging\\nover their heads, to be in readiness to entrap the first that attempted\\nto break through the gradually contracting segment; the dogs serving\\nwith the riders to head the horses in. They continued to advance, when\\nsuddenly a horse with furious speed broke the line, passing near one of\\nthe horsemen, and for a moment it was thought he had escaped; the next\\nhe was jerked round with a force that seemed sufficient to have broken\\nhis neck, the horseman having, the moment the lasso was thrown, turned\\nround and braced himself for the shock. The captured horse now began to\\nrear and plunge furiously to effect his escape. After becoming somewhat\\nworn out, he was suffered to run, and again suddenly checked. This was\\nrepeated several times, when another plan was adopted. The dogs were set\\non him, and off he went at full run, in the direction of another\\nhorseman, who threw his lasso to entangle his legs and precipitate him\\nto the ground. The dogs again roused him, when he again started, and was\\nin like manner brought to a stand. After several trials he became\\ncompletely exhausted and subdued, when he stood perfectly still, and\\nallowed his captors to lay hands upon him. The shouts of the men, the\\nbarking of the dogs, and the scampering of the horses, made the whole\\nscene extremely exciting.\\n\\n\\nFIGHT BETWEEN A WHALE AND A KILLER.\\n\\n\\nThis day, on board the Peacock, they witnessed a sea-fight between a\\nwhale and one of its many enemies. The sea was quite smooth, and offered\\nthe best possible view of the whole combat. First, at a distance from\\nthe ship, a whale was seen floundering in a most extraordinary way,\\nlashing the smooth sea into a perfect foam, and endeavouring apparently\\nto extricate himself from some annoyance. As he approached the ship, the\\nstruggle continuing and becoming more violent, it was perceived that a\\nfish, apparently about twenty feet long, held him by the jaw, his\\ncontortions, spouting, and throes, all betokening the agony of the huge\\nmonster. The whale now threw himself at full length from the water with\\nopen mouth, his pursuer still hanging to the jaw, the blood issuing from\\nthe wound and dyeing the sea to a distance around; but all his\\nflounderings were of no avail; his pertinacious enemy still maintained\\nhis hold, and was evidently getting the advantage of him. Much alarm\\nseemed to be felt by the many other whales around. These \"killers,\" as\\nthey are called, are of a brownish colour on the back, and white on the\\nbelly, with a long dorsal fin. Such was the turbulence with which they\\npassed, that a good view could not be had of them to make out more\\nnearly the description. These fish attack a whale in the same way as\\ndogs bait a bull, and worry him to death. They are armed with strong\\nsharp teeth, and generally seize the whale by the lower jaw. It is said\\nthat the only part of them they eat is the tongue. The whalers give some\\nmarvellous accounts of these killers, and of their immense strength;\\namong them, that they have been known to drag a whale away from several\\nboats which were towing it to the ship.\\n\\n\\nWAR DANCES OF THE NEW ZEALANDERS.\\n\\n\\nWishing to see their war-dances, I requested the chief Pomare to gratify\\nus with an exhibition, which he consented to do. The ground chosen was\\nthe hillside of Mr. Clendon, our consul\\'s place, where between three and\\nfour hundred natives, with their wives and children, assembled. Pomare\\ndivided the men into three parties or squads, and stationed these at\\nsome distance from each other. Shortly after this was done, I received a\\nmessage from him, to say that they were all hungry, and wanted me to\\ntreat them to something to eat. This was refused until they had finished\\ntheir dance, and much delay took place in consequence. Pomare and his\\nwarriors were at first immoveable; but they, in a short time, determined\\nthey would unite on the hill-top, which was accordingly ordered,\\nalthough I was told they were too hungry to dance well. Here they\\narranged themselves in a solid column, and began stamping, shouting,\\njumping, and shaking their guns, clubs, and paddles in the air, with\\nviolent gesticulations, to a sort of savage time. A more grotesque group\\ncannot well be imagined; dressed, half-dressed, or entirely naked. After\\nmuch preliminary action, they all set off, with a frantic shout, at full\\nspeed in a war-charge, which not only put to flight all the animals that\\nwere feeding in the neighbourhood, but startled the spectators. After\\nrunning about two hundred and fifty yards, they fired their guns and\\nhalted, with another shout. They then returned in the same manner, and\\nstopped before us, a truly savage multitude, wrought up to apparent\\nfrenzy, and exhibiting all the modes practised of maiming and killing\\ntheir enemies, until they became exhausted, and lay down on the ground\\nlike tired dogs, panting for breath. One of the chiefs then took an old\\nbroken dragoon-sword, and began running to and fro before us,\\nflourishing it, and, at the same time, delivering a speech at the top of\\nhis voice. The speech, as interpreted to me, ran thus: \"You are welcome,\\nyou are our friends, and we are glad to see you,\" frequently repeated.\\nAfter three or four had shewn off in this way, they determined they must\\nhave something to eat, saying that I had promised them rice and sugar,\\nand they ought to have it. Mr. Clendon, however, persuaded them to give\\none of their feast-dances. The performers consisted of about fifteen\\nold, and as many young persons, whom they arranged in close order. The\\nyoung girls laid aside a part of their dress to exhibit their forms to\\nmore advantage, and they commenced a kind of recitative, accompanied by\\nall manner of gesticulations, with a sort of guttural husk for a chorus.\\nIt was not necessary to understand their language to comprehend their\\nmeaning; and it is unnecessary to add, that their tastes did not appear\\nvery refined, but were similar to what we have constantly observed among\\nthe heathen nations of Polynesia. Their impatience now became\\nungovernable; and hearing that the rice and sugar were being served out,\\nthey retreated precipitately down the hill, where they all set to most\\nheartily, with their wives and children, to devour the food. This, to\\nme, was the most entertaining part of the exhibition. They did not\\nappear selfish towards each other; the children were taken care of, and\\nall seemed to enjoy themselves. I received many thanks in passing among\\nthem, and their countenances betokened contentment. Although they were\\nclothed for the occasion in their best, they exhibited but a squalid and\\ndirty appearance, both in their dress and persons.\\n\\n       *       *       *       *       *\\n\\nWe now end our extracts from this very entertaining Work,--upon the\\nresources of which we have so largely drawn,--by the history of Paddy\\nConnel, as described by himself, and who had been a resident among the\\nFeejeean savages for nearly forty years.\\n\\n\\nHISTORY OF PADDY CONNEL.\\n\\n\\nOne day, while at the Observatory, I was greatly surprised at seeing one\\nwhom I took to be a Feejeeman, enter my tent, a circumstance so\\ninconsistent with the respect to our prescribed limit, of which I have\\nspoken. His colour, however, struck me as lighter than that of any\\nnative I had yet seen. He was a short wrinkled old man, but appeared to\\npossess great vigour and activity. He had a beard that reached to his\\nmiddle, and but little hair, of a reddish-grey colour, on his head. He\\ngave me no time for inquiry, but at once addressed me in broad Irish,\\nwith a rich Milesian brogue. In a few minutes he made me acquainted with\\nhis story, which, by his own account, was as follows:--\\n\\nHis name was Paddy Connel, but the natives called him Berry; he was born\\nin the county of Clare, in Ireland; had run away from school when he was\\na little fellow, and after wandering about as a vagabond, was pressed\\ninto the army in the first Irish rebellion. At the time the French\\nlanded in Ireland, the regiment to which he was attached marched at once\\nagainst the enemy, and soon arrived on the field of battle, where they\\nwere brought to the charge. The first thing he knew or heard, the drums\\nstruck up a White Boy\\'s tune, and his whole regiment went over and\\njoined the French, with the exception of the officers, who had to flee.\\nThey were then marched against the British, and were soon defeated by\\nLord Cornwallis; it was a hard fight, and Paddy found himself among the\\nslain. When he thought the battle was over, and night came on, he\\ncrawled off and reached home. He was then taken up and tried for his\\nlife, but was acquitted; he was, however, remanded to prison, and busied\\nhimself in effecting the escape of some of his comrades. On this being\\ndiscovered, he was confined in the black hole, and soon after sent to\\nCork, to be put on board a convict-ship bound to New South Wales. When\\nhe arrived there, his name was not found on the books of the prisoners;\\nconsequently he had been transported by mistake, and was, therefore, set\\nat liberty. He then worked about for several years, and collected a\\nsmall sum of money, but unfortunately fell into bad company, got drunk,\\nand lost it all. Just about this time Captain Sartori, of the ship\\nGeneral Wellesley, arrived at Sydney. Having lost a great part of his\\ncrew by sickness and desertion, he desired to procure hands for his\\nship, which was still at Sandalwood Bay, and obtained thirty-five men,\\none of whom was Paddy Connel. At the time they were ready to depart, a\\nFrench privateer, Le Gloriant, Captain Dubardieu, put into Sydney, when\\nCaptain Sartori engaged a passage for himself and his men to the\\nFeejees. On their way they touched at Norfolk Island, where the ship\\nstruck, and damaged her keel so much that they were obliged to put into\\nthe Bay of Islands for repairs. Paddy asserts that a difficulty had\\noccurred here between Captain Sartori and his men about their\\nprovisions, which was amicably settled. The Gloriant finally sailed from\\nNew Zealand for Tongataboo, where they arrived just after the capture of\\na vessel, which he supposed to have been the Port au Prince, as they had\\nobtained many articles from the natives, which had evidently belonged to\\nsome large vessel. Here they remained some months, and then sailed for\\nSandalwood Bay, where the men, on account of their former quarrel with\\nCaptain Sartori, refused to go on board the General Wellesley: some of\\nthem shipped on board the Gloriant, and others, with Paddy, determined\\nto remain on shore with the natives. He added, that Captain Sartori was\\nkind to him, and at parting had given him a pistol, cutlass, and an old\\ngood-for-nothing musket; these, with his sea-chest and a few clothes,\\nwere all that he possessed. He had now lived forty years among these\\nsavages. After hearing his whole story, I told him I did not believe a\\nword of it; to which he answered, that the main part of it was true, but\\nhe might have made some mistakes, as he had been so much in the habit of\\nlying to the Feejeeans, that he hardly now knew when he told the truth,\\nadding, that he had no desire to tell anything but the truth.\\n\\nPaddy turned out to be a very amusing fellow, and possessed an accurate\\nknowledge of the Feejee character. Some of the whites told me that he\\nwas more than half Feejee; indeed he seemed to delight in shewing how\\nnearly he was allied to them in feeling and propensities; and, like\\nthem, seemed to fix his attention upon trifles. He gave me a droll\\naccount of his daily employments, which it would be inappropriate to\\ngive here, and finished by telling me the only wish he had then, was to\\nget for his little boy, on whom he doated, a small hatchet; and the only\\narticles he had to offer for it were a few old hens. On my asking him if\\nhe did not cultivate the ground, he said at once no; he found it much\\neasier to get his living by telling the Feejeeans stories, which he\\ncould always make good enough for them;--these, and the care of his two\\nlittle boys, and his hens, and his pigs, when he had any, gave him ample\\nemployment and plenty of food. He had lived much at Rewa, and, until\\nlately, had been a resident at Levuka, but had, in consequence of his\\nintrigues, been expelled by the white residents, to the island of\\nAmbatiki. It appeared that they had unanimously come to the conclusion,\\nthat if he did not remove, they would be obliged to put him to death for\\ntheir own safety. I could not induce Whippy or Tom to give me the\\ncircumstances that occasioned this determination; and Paddy would not\\ncommunicate more than that his residence on Ambatiki was a forced one,\\nand that it was as though he was living out of the world, rearing pigs,\\nfowls, and children. Of the last description of live stock he had\\nforty-eight, and hoped that he might live to see fifty born to him. He\\nhad had one hundred wives.\\n\\n\\n~Extraordinary Escape from Drowning.~\\n\\n\\nThe following Narrative of an extraordinary escape from drowning, after\\nbeing wrecked among the Rapids of the St. Lawrence, first appeared in\\nthe _Liverpool Mercury_, the Editors of which state that they have\\npublished it by permission of the writer, who is a well-known merchant\\nof great respectability in that city. We have extracted it from the\\npages of the _Edinburgh Magazine_, the Editor of which remarks,--\"We\\nhave been induced to transfer it into our Miscellany, not merely from\\nthe uncommon interest of the detail, but because we happen to be able to\\nvouch for its authenticity.\"\\n\\nOn the 22nd day of April, 1810, our party set sail in a large schooner\\nfrom Fort-George, or Niagara Town, and in two days crossed Lake Ontario\\nto Kingston, at the head of the river St. Lawrence, distant from Niagara\\nabout 200 miles. Here we hired an American barge (a large flat-bottomed\\nboat) to carry us to Montreal, a further distance of 200 miles; then set\\nout from Kingston on the 28th of April, and arrived the same evening at\\nOgdensburgh, a distance of 75 miles. The following evening we arrived\\nat Cornwall, and the succeeding night at Pointe du Lac, on Lake St.\\nFrancis. Here our bargemen obtained our permission to return up the\\nriver; and we embarked in another barge, deeply laden with potashes,\\npassengers, and luggage. Above Montreal, for nearly 100 miles, the river\\nSt. Lawrence is interrupted in its course by rapids, which are\\noccasioned by the river being confined in comparatively narrow, shallow,\\nrocky channels;--through these it rushes with great force and noise, and\\nis agitated like the ocean in a storm. Many people prefer these rapids,\\nfor grandeur of appearance, to the Falls of Niagara. They are from half\\na mile to nine miles long each, and require regular pilots. On the 30th\\nof April we arrived at the village of the Cedars, immediately below\\nwhich are three sets of very dangerous rapids (the Cedars, the\\nSplit-rock, and the Cascades), distant from each other about one mile.\\nOn the morning of the 1st of May we set out from the Cedars, the barge\\nvery deep and very leaky. The captain, a daring rash man, refused to\\ntake a pilot. After we passed the Cedar rapid, not without danger, the\\ncaptain called for some rum, swearing, at the same time, that ---- could\\nnot steer the barge better than he did! Soon after this we entered the\\nSplit-rock rapids by a wrong channel, and found ourselves advancing\\nrapidly towards a dreadful watery precipice, down which we went. The\\nbarge slightly grazed her bottom against the rock, and the fall was so\\ngreat as to nearly take away the breath. We here took in a great deal of\\nwater, which was mostly baled out again before we were hurried on to\\nwhat the Canadians call the \"grand bouillon,\" or great boiling. In\\napproaching this place the captain let go the helm, saying, \"Here we\\nfill!\" The barge was almost immediately overwhelmed in the midst of\\nimmense foaming breakers, which rushed over the bows, carrying away\\nplanks, oars, &c. About half a minute elapsed between the filling and\\ngoing down of the barge, during which I had sufficient presence of mind\\nto rip off my three coats, and was loosening my suspenders, when the\\nbarge sunk, and I found myself floating in the midst of people, baggage,\\n&c. Each man caught hold of something; one of the crew caught hold of\\nme, and kept me down under water, but, contrary to my expectation, let\\nme go again. On rising to the surface, I got hold of a trunk, on which\\ntwo other men were then holding. Just at this spot, where the Split-rock\\nrapids terminate, the bank of the river is well inhabited; and we could\\nsee women on shore running about much agitated. A canoe put off, and\\npicked up three of our number, who had gained the bottom of the barge,\\nwhich had upset and got rid of its cargo; these they landed on an\\nisland. The canoe put off again, and was approaching near to where I\\nwas, with two others, holding on by the trunk, when, terrified with the\\nvicinity of the Cascades, to which we were approaching, it put back,\\nnotwithstanding my exhortations, in French and English, to induce the\\ntwo men on board to advance. The bad hold which one man had of the\\ntrunk, to which we were adhering, subjected him to constant immersion;\\nand, in order to escape his seizing hold of me, I let go the trunk, and,\\nin conjunction with another man, got hold of the boom, (which, with the\\ngaff, sails, &c., had been detached from the mast, to make room for the\\ncargo,) and floated off. I had just time to grasp this boom, when we\\nwere hurried into the Cascades; in these I was instantly buried, and\\nnearly suffocated. On rising to the surface, I found one of my hands\\nstill on the boom, and my companion also adhering to the gaff. Shortly\\nafter descending the Cascades, I perceived the barge, bottom upwards,\\nfloating near me. I succeeded in getting to it, and held by a crack in\\none end of it; the violence of the water, and the falling out of the\\ncasks of ashes, had quite wrecked it. For a long time I contented myself\\nwith this hold, not daring to endeavour to get upon the bottom, which I\\nat length effected; and from this, my new situation, I called out to my\\ncompanion, who still preserved his hold of the gaff. He shook his head;\\nand, when the waves suffered me to look up again, he was gone. He made\\nno attempt to come near me, being unable or unwilling to let go his\\nhold, and trust himself to the waves, which were then rolling over his\\nhead.\\n\\nThe Cascades are a kind of fall, or rapid descent, in the river, over a\\nrocky channel below: going down is called, by the French, \"Sauter,\" to\\nleap or shove the cascades. For two miles below, the channel continues\\nin uproar, just like a storm at sea; and I was frequently nearly washed\\noff the barge by the waves which rolled over. I now entertained no hope\\nwhatever of escaping; and although I continued to exert myself to hold\\non, such was the state to which I was reduced by cold, that I wished\\nonly for speedy death, and frequently thought of giving up the contest\\nas useless. I felt as if compressed into the size of a monkey; my hands\\nappeared diminished in size one-half; and I certainly should (after I\\nbecame cold and much exhausted) have fallen asleep, but for the waves\\nthat were passing over me, and obliged me to attend to my situation. I\\nhad never descended the St. Lawrence before, but I knew there were more\\nrapids a-head, perhaps another set of the Cascades, but at all events\\nthe La Chine rapids, whose situation I did not exactly know. I was in\\nhourly expectation of these putting an end to me, and often fancied some\\npoints of ice extending from the shore to be the head of foaming rapids.\\nAt one of the moments in which the succession of waves permitted me to\\nlook up, I saw at a distance a canoe with four men coming towards me,\\nand waited in confidence to hear the sound of their paddles; but in this\\nI was disappointed; the men, as I afterwards learnt, were Indians\\n(genuine descendants of the Tartars) who, happening to fall in with one\\nof the passenger\\'s trunks, picked it up, and returned to shore for the\\npurpose of pillaging it, leaving, as they since acknowledged, the man on\\nthe boat to his fate. Indeed, I am certain I should have had more to\\nfear from their avarice, than to hope from their humanity; and it is\\nmore than probable, that my life would have been taken to secure them in\\nthe possession of my watch and several half-eagles, which I had about\\nme.\\n\\nThe accident happened at eight o\\'clock in the morning. In the course of\\nsome hours, as the day advanced, the sun grew warmer, the wind blew from\\nthe south, and the water became calmer. I got upon my knees, and found\\nmyself in the small lake St. Louis, about from three to five miles wide;\\nwith some difficulty I got upon my feet, but was soon convinced, by\\ncramps and spasms in all my sinews, that I was quite incapable of\\nswimming any distance, and I was then two miles from shore. I was now\\ngoing, with wind and current, to destruction; and cold, hungry, and\\nfatigued, was obliged again to sit down in the water to rest, when an\\nextraordinary circumstance greatly relieved me. On examining the wreck,\\nto see if it was possible to detach any part of it to steer by, I\\nperceived something loose, entangled in a fork of the wreck, and so\\ncarried along. This I found to be a small trunk, bottom upwards, which,\\nwith some difficulty, I dragged up upon the barge. After near an hour\\'s\\nwork, in which I broke my pen-knife, trying to cut out the lock, I made\\na hole in the top, and, to my great satisfaction, drew out a bottle of\\nrum, a cold tongue, some cheese, and a bag full of bread, cakes, &c.,\\nall wet. Of these I made a very seasonable, though very moderate use,\\nand the trunk answered the purpose of a chair to sit upon, elevated\\nabove the surface of the water.\\n\\nAfter in vain endeavouring to steer the wreck, or direct its course to\\nthe shore, and having made every signal (with my waistcoat, &c.) in my\\npower, to the several headlands which I had passed, I fancied I was\\ndriving into a bay, which, however, soon proved to be the termination of\\nthe lake, and the opening of the river, the current of which was\\ncarrying me rapidly along. I passed several small uninhabited islands;\\nbut the banks of the river appearing to be covered with houses, I again\\nrenewed my signals with my waistcoat and a shirt, which I took out of\\nthe trunk, hoping, as the river narrowed, they might be perceived; the\\ndistance was too great. The velocity with which I was going convinced me\\nof my near approach to the dreadful rapids of La Chine. Night was\\ndrawing on; my destruction appeared certain, but did not disturb me\\nvery much: the idea of death had lost its novelty, and become quite\\nfamiliar. Finding signals in vain, I now set up a cry or howl, such as I\\nthought best calculated to carry to a distance, and, being favoured by\\nthe wind, it did, although at above a mile distance, reach the ears of\\nsome people on shore. At last I perceived a boat rowing towards me,\\nwhich, being very small and white-bottomed, I had some time taken for a\\nfowl with a white breast; and I was taken off the barge by Captain\\nJohnstone, after being ten hours on the water. I found myself at the\\nvillage of La Chine, 21 miles below where the accident happened, and\\nhaving been driven by the winding of the current a much greater\\ndistance. I received no other injury than bruised knees and breast, with\\na slight cold. The accident took some hold of my imagination, and, for\\nseven or eight succeeding nights, in my dreams, I was engaged in the\\ndangers of the Cascades, and surrounded by drowning men.\\n\\nMy escape was owing to a concurrence of fortunate circumstances, which\\nappear almost providential. I happened to catch hold of various articles\\nof support, and to exchange each article for another just at the right\\ntime. Nothing but the boom could have carried me down the Cascades\\nwithout injury; and nothing but the barge could have saved me below\\nthem. I was also fortunate in having the whole day. Had the accident\\nhappened one hour later, I should have arrived opposite the village of\\nLa Chine after dark, and, of course, would have been destroyed in the\\nrapids below, to which I was rapidly advancing. The trunk which\\nfurnished me with provisions and a resting-place above the water, I have\\nevery reason to think, was necessary to save my life; without it I must\\nhave passed the whole time in the water, and been exhausted with cold\\nand hunger. When the people on shore saw our boat take the wrong\\nchannel, they predicted our destruction: the floating luggage, by\\nsupporting us for a time, enabled them to make an exertion to save us;\\nbut as it was not supposed possible to survive the passage of the\\nCascades, no further exertions were thought of, nor indeed could they\\nwell have been made.\\n\\nIt was at this very place that General Ambert\\'s brigade of 300 men,\\ncoming to attack Canada, was lost; the French at Montreal received the\\nfirst intelligence of the invasion, by the dead bodies floating past the\\ntown. The pilot who conducted the first batteaux, committing the same\\nerror that we did, ran for the wrong channel, and the other batteaux\\nfollowing close, all were involved in the same destruction. The whole\\nparty with which I was escaped; four left the barge at the Cedar\\nvillage, above the rapids, and went to Montreal by land; two more were\\nsaved by the canoe; the barge\\'s crew, all accustomed to labour, were\\nlost. Of the eight men who passed down the Cascades, none but myself\\nescaped, or were seen again; nor indeed was it possible for any one,\\nwithout my extraordinary luck, and the aid of the barge, to which they\\nmust have been very close, to have escaped; the other men must have\\nbeen drowned immediately on entering the Cascades. The trunks, &c., to\\nwhich they adhered, and the heavy great-coats which they had on, very\\nprobably helped to overwhelm them; but they must have gone at all\\nevents; swimming in such a current of broken stormy waves was\\nimpossible. Still I think my knowing how to swim kept me more collected,\\nand rendered me more willing to part with one article of support to gain\\na better. Those who could not swim would naturally cling to whatever\\nhold they first got, and, of course, many had very bad ones. The Captain\\npassed me above the Cascades, on a sack of woollen clothes, which were\\ndoubtless soon saturated and sunk.\\n\\nThe trunk which I picked up belonged to a young man from Upper Canada,\\nwho was one of those drowned; it contained clothes, and about L70 in\\ngold, which was restored to his friends. My own trunk contained, besides\\nclothes, about L200 in gold and bank notes. On my arrival at La Chine, I\\noffered a reward of 100 dollars, which induced a Canadian to go in\\nsearch of it. He found it, some days after, on the shore of an island on\\nwhich it had been driven, and brought it to La Chine, where I happened\\nto be at the time. I paid him his reward, and understood that above\\none-third of it was to be immediately applied to the purchase of a\\ncertain number of masses which he had vowed, in the event of success,\\nprevious to his setting out on the search.\\n\\n       *       *       *       *       *\\n\\n\\n~Adventure in the Desert, and Murder of a Sheikh.~\\n\\n\\nI was awakened for a few minutes, as early as three o\\'clock on the\\nfollowing morning, by the sound of many voices in loud and earnest\\nconversation, amongst which I recognised that of Sheikh Suleiman; but as\\nnoisy conversations at such early hours are by no means uncommon with\\nthese restless spirits of the wilderness, I gave no heed to it, and\\ncomposed myself for sleep again, intending to rise by about half after\\nfour, in order to get a dip in the Red Sea, before resuming the march;\\nand this intention I fulfilled; but just while throwing on the few\\nclothes I had taken with me, I heard suddenly a loud strife of many\\ntongues bursting forth, not in our encampment, but in a small copse or\\ngrove of palm trees, about two hundred yards distant. At once the\\nthought rushed upon my mind, that the Mezzeni had overtaken us, and were\\nmeditating an attack, now that we were so near the place of their main\\nencampment. This was directly confirmed by the sound of a gun-shot in\\nthe palm-grove, which was soon followed up by a second. I ran up towards\\nthe encampment as rapidly as possible; and just as I reached it, another\\nshot rang awfully upon my ear. I found our party in a state of the\\ngreatest consternation, and gathered closely together, gazing wildly\\ntowards the grove. The first thing I learnt, was the harrowing fact,\\nthat poor Suleiman had just been murdered by the Mezzeni! It was an\\nastounding announcement. To what would this desperate blow lead--here,\\nin the Desert? The prospect of further bloodshed was terrible. It would\\nhave been insupportable, but for the influence of that inward calmness\\nwhich is the privilege of the children of God. We were braced up for the\\nworst, and stood gazing upon the scene, in full expectation that out of\\na deep and deadly spirit of revenge, we should be immediately\\noverpowered by the enemy, and held entirely at their mercy--as any shew\\nof defence against so many as had now come down upon us, would have been\\nutterly futile, and might have led to the destruction of us all. How\\nwild and desolate this awful theatre of death appeared, while, with the\\nsound of gun-shots still vibrating in our ears, we thought of Suleiman\\nwrithing in his death-throes, and anxiously watched the movements of the\\nmurderers. We were motionless--almost breathless. Each man among us\\ngazed silently upon his fellow. Our suspense was not of great duration,\\nbut long enough to get the heart secretly lifted up in communion with a\\nGod of mercy. And there was sweet peacefulness in that brief\\nexercise.... My worst fears were groundless. The hearts of all men are\\nin God\\'s hands. Our helplessness must have been a powerful matter of\\ntemptation to the blood-stained men, over whom the departed soul of\\nSuleiman was hovering. But God restrained them....\\n\\nHaving slaughtered their victim, the Mezzeni (of whom above forty were\\ncounted), quietly marched back towards Nuweibia, without exchanging even\\na word with us; leaving behind them the corpse of poor Suleiman--a sad\\nmemorial of their malignant vengeance; while several others of their\\ntribe, who had been lying in ambush beyond the scene of terror, came\\nforth from their hiding-places, and joined their retreating comrades.\\n\\nMy heart almost sickens at the recollection of this dreadful\\ntransaction, while referring to the notes made on the spot, and\\ncompiling from them the particulars of this sad page.\\n\\nAs soon as the enemy had fairly departed, I took Hassenein with me, and\\nadvanced carefully towards the copse of palm trees, where I found the\\nmangled body of poor Suleiman quite dead, but with the agony of the\\ndeath-pang still visible on his sunburnt and swarthy features. It was a\\nterrible sight, thus to behold the leader and confidential companion of\\nour wild route, lying as the clods of the valley, and saturated with his\\nown life-blood. And how, in a Christian\\'s heart, was the sense of the\\nsad reality heightened, by knowing that the poor sufferer was a follower\\nof the false prophet--a Mahommedan--ignorant of Him who was \"delivered\\nfor our offences, and raised again for our justification.\" I have seen\\ndeath in many forms; but I never beheld it with so dread an aspect as it\\nhere assumed.\\n\\nI was more than half inclined to withhold the minute particulars of the\\ndark tragedy, when arriving at this part of my narrative; but they now\\nfasten themselves upon my mind, and I feel constrained to leave them on\\nrecord.\\n\\nSuleiman had received three balls through his body, and four\\nsabre-gashes on his head, which was also nearly severed from the trunk;\\nand his right arm, which had been evidently raised in an attempt at\\nwarding off a blow, was all but divided near the wrist. We returned to\\nthe encampment, where our Arabs were sitting together, still terrified.\\nAt length a few of them who volunteered their aid, went and washed the\\nbody--wrapped it in an unfolded turban, and prepared it for immediate\\ninterment. They hastily formed a resting-place, about a mile upwards,\\ntowards the hills which skirted the plain in which we were encamped, by\\nraising four walls of large loose stones. Having made all ready, they\\nbrought up the remains of their leader, laid across the back of his\\ncamel, and, with deep emotion, deposited them in their final abode,\\narching it over with large masses of stone, and quitting it with what\\nappeared to me like deep expressions of vengeance against the tribe, on\\nwhich lay the guilt of his murder.\\n\\nI turned away from the tomb with a heavy heart.... Was my way to the\\nHoly City of my God to be tracked with blood?\\n\\nOn making a careful inquiry into the particulars immediately connected\\nwith this sad catastrophe, I collected the following:--It appeared, that\\nwhile we were resting on the previous day at Wadey el Ayun, the Mezzeni\\ncame down in order to make a final effort at supporting, without\\nbloodshed, their claim to conduct travellers through their territory to\\nAkabah. Sheikh Furriqh was of the number, as I have already stated. When\\nhe was about to retire, after an unsuccessful attempt, an Arab of his\\ntribe came and secretly informed him that his (Furriqh\\'s) nephew had\\nbeen shot on the previous day by one of Suleiman\\'s tribe, in reference\\nto the very question then pending. On receiving this information,\\nFurriqh at once broke off all negotiation, and quitted the encampment.\\nIt is believed that Suleiman never knew the fact which had been\\ncommunicated to Furriqh; but news was brought to him that the Mezzeni\\nintended to pursue us with an increased force; and this quite accounts\\nfor all the anxiety and timidity which he evinced during the afternoon\\nand evening preceding his death. It appears that the Mezzeni, bent on\\naccomplishing their purpose, gathered together their force, and,\\nfollowing us at dromedary speed, arrived at the encampment as early as\\ntwo o\\'clock in the morning--that a deputation from them came to\\nSuleiman, while some of the rest remained in the palm-grove, and others\\nwent in advance, and formed ambuscades--that Sheikh Furriqh was one of\\nthe deputation--that Suleiman shewed them the usual hospitality of\\nbreaking bread with them--that the conference ended without any\\nadjustment of the matter in dispute--that after the deputation had\\nretired to the copse, two Arabs of a neutral tribe, who had come with us\\nfrom Mount Sinai, went to the Mezzeni in order to mediate, but were\\nunsuccessful--that while they remained Suleiman was sent for, and that\\nhaving broken bread with the Mezzeni, he had a right to expect that his\\nlife would be held sacred--that Suleiman had scarcely reached the\\nadverse party, when Sheikh Furriqh said--\"We do not care about the\\nmoney, but there is blood between us;\"--that instantly one of the\\nMezzeni shot him through the body, and that Furriqh cut him down with\\nhis sabre, while two other shots which were fired took effect upon him.\\nMy recollection of Furriqh, from the first moment that he appeared in\\nour caravan, is such as to convince me that he would readily commit such\\nan act as this--so subtle--so cruel--so cowardly--without one feeling of\\nremorse or misgiving.\\n\\n\\nPOPULAR JUVENILE BOOKS,\\n\\n\\nOf established reputation, which may be safely placed into the hands of\\nChildren, blending Amusement with Instruction.\\n\\n       *       *       *       *       *\\n\\nDARTON\\'S HOLIDAY LIBRARY.\\n\\n\\nA SERIES OF SHILLING VOLUMES FOR THE YOUNG, BY APPROVED AUTHORS.\\n\\nNo. 1. MARY LEESON, by MARY HOWITT. Illustrated by JOHN ABSOLON.\\n\\nNo. 2. TAKE CARE OF No. 1, or Good to Me includes Good to Thee, by S.E.\\nGOODRICH, Esq., (the Original Peter Parley). Illustrated by GILBERT.\\n\\nNo. 3. HOW TO SPEND A WEEK HAPPILY, by Mrs. BURBURY. With Illustrations.\\n\\nNo. 4. POEMS FOR YOUNG CHILDREN, by \"ADELAIDE,\" one of the amiable\\nAuthoresses of \"Original Poems.\" With Illustrations.\\n\\nNo. 5. THE YOUNG LORD, by CAMILLA TOULMIN; and VICTORINE DUROCHER, by\\nMrs. SHERWOOD. With Illustrations.\\n\\nNo. 6. PAULINE, a Tale from the German. With Illustrations.\\n\\nNo. 7. HOUSEHOLD STORIES. With Illustrations.\\n\\nNos. 8 & 9. IN-DOOR AND OUT-DOOR SPORTS.\\n\\nNo. 10. STORIES OF ENTERPRISE AND ADVENTURE; or AN EXCITEMENT TO\\nREADING. Illustrated with Wood Engravings from Designs by ABSOLON.\\n\\nNo. 11. THE BOOK OF RIDDLES, ETC.\\n\\n\\nCritical Remarks.\\n\\n\"The Volumes of DARTON\\'S HOLIDAY LIBRARY which have reached us, comprise\\na most interesting Series of Books for Young People, written by some of\\nour most Popular Authors, and all having a tendency towards the\\nformation of correct principles and habits in the minds of the Young.\\nThey blend amusement with instruction in the most delightful manner. We\\ncordially recommend them as by far the best books of their class.\"\\n\\n[Illustration: Back Cover]',\n",
              " 'added': '2023-04-25T05:53:21.884Z',\n",
              " 'created': '2004-02-01T00:00:00.000Z',\n",
              " 'source': 'gutenberg'}"
            ]
          },
          "metadata": {},
          "execution_count": 21
        }
      ]
    },
    {
      "cell_type": "code",
      "source": [],
      "metadata": {
        "id": "gHYpOXYM3JIi"
      },
      "execution_count": null,
      "outputs": []
    }
  ]
}